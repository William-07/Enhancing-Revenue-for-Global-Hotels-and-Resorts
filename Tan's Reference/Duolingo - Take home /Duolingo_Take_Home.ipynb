{
 "cells": [
  {
   "cell_type": "markdown",
   "metadata": {},
   "source": [
    "Table of Content\n",
    "\n",
    "1. Intro & Business Understanding\n",
    "\n",
    "2. Exploratory Data Analysis\n",
    "\n",
    "3. Feature Engineering\n",
    "\n",
    "4. Clustering Models & User Segment Insights\n",
    "\n",
    "5. Conclusion and Business Applications"
   ]
  },
  {
   "cell_type": "markdown",
   "metadata": {},
   "source": [
    "## Section 1: Intro & Business Understanding"
   ]
  },
  {
   "cell_type": "markdown",
   "metadata": {},
   "source": [
    "Duolingo aims to use the user survey to develop user segments (or personas) for future marketing effort and product improvement. Besides survey data, usage data from the users in the survey are also provided. This usage data helps enrich the insights of users.\n",
    "\n",
    "For this task, you have three objectives:\n",
    "\n",
    "There are 3 key objectives of this data analysis project:\n",
    "1) Explore the data\n",
    "For this part, I’m curious about:\n",
    "- Exploratory data analysis: \n",
    "    - Data quality: missing values, duplicated data\n",
    "    - Key questions I want to discover: \n",
    "        - Overall information about Duolingo users\n",
    "        - Who are the most engaging users? And why?\n",
    "        - Who are the subscribers? What made them subscriber?\n",
    "        - The reliability of survey\n",
    "- Feature engineering: \n",
    "    - What are the variables that are useful for the model?\n",
    "    - What are necessary transformation on variables?\n",
    "\n",
    "2) Use quantitative methods to identify a set of user segments/personas\n",
    "- I will use 2 most common clustering models to classify user segments/personas: K-means clustering and Hierarchical Clustering\n",
    "- After that, visualizing segments to figure out the insights of each segment/persona.\n",
    "\n",
    "3) Identify any actionable product or marketing insights\n",
    "- Provide key insights and recommendation for product imrovement and marketing initiatives.\n",
    "- Go above and beyond by asking relevant questions to further have a deep-dive analysis.\n"
   ]
  },
  {
   "cell_type": "markdown",
   "metadata": {},
   "source": [
    "## Section 2: Exploratory Data Analysis <a id=\"2\"></a>"
   ]
  },
  {
   "cell_type": "code",
   "execution_count": 99,
   "metadata": {},
   "outputs": [],
   "source": [
    "import pandas as pd\n",
    "import matplotlib.pyplot as plt \n",
    "import seaborn as sns\n",
    "import numpy as np\n",
    "from sklearn.cluster import KMeans\n",
    "from sklearn.cluster import AgglomerativeClustering\n",
    "from sklearn.cluster import DBSCAN\n",
    "from sklearn.decomposition import PCA\n",
    "from sklearn.linear_model import LinearRegression\n",
    "from sklearn.model_selection import train_test_split\n",
    "\n",
    "pd.set_option('display.max_rows', None)\n",
    "pd.set_option('display.max_columns', None)"
   ]
  },
  {
   "cell_type": "markdown",
   "metadata": {},
   "source": [
    "### Survey Data <a id=\"data-overview\"></a>"
   ]
  },
  {
   "cell_type": "code",
   "execution_count": 100,
   "metadata": {},
   "outputs": [
    {
     "data": {
      "text/plain": [
       "(6187, 19)"
      ]
     },
     "execution_count": 100,
     "metadata": {},
     "output_type": "execute_result"
    }
   ],
   "source": [
    "# Read survey_data file\n",
    "survey_data = pd.read_csv('survey_data.csv')\n",
    "survey_data.shape"
   ]
  },
  {
   "cell_type": "markdown",
   "metadata": {},
   "source": [
    "There are 6187 surveys with 19 columns."
   ]
  },
  {
   "cell_type": "code",
   "execution_count": 101,
   "metadata": {},
   "outputs": [
    {
     "data": {
      "text/html": [
       "<div>\n",
       "<style scoped>\n",
       "    .dataframe tbody tr th:only-of-type {\n",
       "        vertical-align: middle;\n",
       "    }\n",
       "\n",
       "    .dataframe tbody tr th {\n",
       "        vertical-align: top;\n",
       "    }\n",
       "\n",
       "    .dataframe thead th {\n",
       "        text-align: right;\n",
       "    }\n",
       "</style>\n",
       "<table border=\"1\" class=\"dataframe\">\n",
       "  <thead>\n",
       "    <tr style=\"text-align: right;\">\n",
       "      <th></th>\n",
       "      <th>user_id</th>\n",
       "      <th>age</th>\n",
       "      <th>annual_income</th>\n",
       "      <th>country</th>\n",
       "      <th>duolingo_platform</th>\n",
       "      <th>duolingo_subscriber</th>\n",
       "      <th>duolingo_usage</th>\n",
       "      <th>employment_status</th>\n",
       "      <th>future_contact</th>\n",
       "      <th>gender</th>\n",
       "      <th>other_resources</th>\n",
       "      <th>primary_language_commitment</th>\n",
       "      <th>primary_language_review</th>\n",
       "      <th>primary_language_motivation</th>\n",
       "      <th>primary_language_motivation_followup</th>\n",
       "      <th>primary_language_proficiency</th>\n",
       "      <th>student</th>\n",
       "      <th>survey_complete</th>\n",
       "      <th>time_spent_seconds</th>\n",
       "    </tr>\n",
       "  </thead>\n",
       "  <tbody>\n",
       "    <tr>\n",
       "      <th>0</th>\n",
       "      <td>35c9fc6e72c911e99681dca9049399ef</td>\n",
       "      <td>18-34</td>\n",
       "      <td>$26,000 - $75,000</td>\n",
       "      <td>JP</td>\n",
       "      <td>Android phone or tablet</td>\n",
       "      <td>No, I have never paid for Duolingo Plus</td>\n",
       "      <td>Daily</td>\n",
       "      <td>Employed full-time</td>\n",
       "      <td>Yes</td>\n",
       "      <td>Male</td>\n",
       "      <td>Stories/novels/children's books,Movies/TV Shows</td>\n",
       "      <td>I'm very committed to learning this language.</td>\n",
       "      <td>I am using Duolingo to review a language I've ...</td>\n",
       "      <td>I like to learn new languages</td>\n",
       "      <td>I want to learn as many languages as I can,Oth...</td>\n",
       "      <td>Advanced</td>\n",
       "      <td>Not currently a student</td>\n",
       "      <td>1</td>\n",
       "      <td>193</td>\n",
       "    </tr>\n",
       "    <tr>\n",
       "      <th>1</th>\n",
       "      <td>35c9fdde72c911e98630dca9049399ef</td>\n",
       "      <td>18-34</td>\n",
       "      <td>$26,000 - $75,000</td>\n",
       "      <td>JP</td>\n",
       "      <td>iPhone or iPad</td>\n",
       "      <td>No, I have never paid for Duolingo Plus</td>\n",
       "      <td>Weekly</td>\n",
       "      <td>Employed full-time</td>\n",
       "      <td>Yes</td>\n",
       "      <td>Male</td>\n",
       "      <td>NaN</td>\n",
       "      <td>I'm slightly committed to learning this language.</td>\n",
       "      <td>I am using Duolingo to review a language I've ...</td>\n",
       "      <td>I need to be able to speak the local language ...</td>\n",
       "      <td>I am an immigrant,I am a refugee</td>\n",
       "      <td>Intermediate</td>\n",
       "      <td>Not currently a student</td>\n",
       "      <td>1</td>\n",
       "      <td>139</td>\n",
       "    </tr>\n",
       "    <tr>\n",
       "      <th>2</th>\n",
       "      <td>35c9feb072c911e9ab4cdca9049399ef</td>\n",
       "      <td>18-34</td>\n",
       "      <td>$76,000 - $150,000</td>\n",
       "      <td>JP</td>\n",
       "      <td>iPhone or iPad</td>\n",
       "      <td>Yes, I currently pay for Duolingo Plus</td>\n",
       "      <td>Daily</td>\n",
       "      <td>Employed full-time</td>\n",
       "      <td>Yes</td>\n",
       "      <td>Male</td>\n",
       "      <td>NaN</td>\n",
       "      <td>I'm moderately committed to learning this lang...</td>\n",
       "      <td>I am using Duolingo to review a language I've ...</td>\n",
       "      <td>I want to connect with my heritage or identity</td>\n",
       "      <td>NaN</td>\n",
       "      <td>Beginner</td>\n",
       "      <td>Not currently a student</td>\n",
       "      <td>1</td>\n",
       "      <td>119</td>\n",
       "    </tr>\n",
       "    <tr>\n",
       "      <th>3</th>\n",
       "      <td>35c9ff7072c911e9900ddca9049399ef</td>\n",
       "      <td>18-34</td>\n",
       "      <td>$76,000 - $150,000</td>\n",
       "      <td>JP</td>\n",
       "      <td>iPhone or iPad</td>\n",
       "      <td>No, but I have previously paid for Duolingo Plus</td>\n",
       "      <td>Daily</td>\n",
       "      <td>Employed full-time</td>\n",
       "      <td>Yes</td>\n",
       "      <td>Female</td>\n",
       "      <td>Other apps</td>\n",
       "      <td>I'm very committed to learning this language.</td>\n",
       "      <td>I am using Duolingo to learn this language for...</td>\n",
       "      <td>I am preparing for a trip</td>\n",
       "      <td>I want to learn some basics in the local langu...</td>\n",
       "      <td>Intermediate</td>\n",
       "      <td>Not currently a student</td>\n",
       "      <td>1</td>\n",
       "      <td>229</td>\n",
       "    </tr>\n",
       "    <tr>\n",
       "      <th>4</th>\n",
       "      <td>35ca002672c911e99effdca9049399ef</td>\n",
       "      <td>35 - 54</td>\n",
       "      <td>$76,000 - $150,000</td>\n",
       "      <td>JP</td>\n",
       "      <td>Android phone or tablet</td>\n",
       "      <td>Yes, I currently pay for Duolingo Plus</td>\n",
       "      <td>Daily</td>\n",
       "      <td>Employed full-time</td>\n",
       "      <td>Yes</td>\n",
       "      <td>Male</td>\n",
       "      <td>NaN</td>\n",
       "      <td>I'm very committed to learning this language.</td>\n",
       "      <td>I am using Duolingo to learn this language for...</td>\n",
       "      <td>I want to connect with my heritage or identity</td>\n",
       "      <td>NaN</td>\n",
       "      <td>Intermediate</td>\n",
       "      <td>Not currently a student</td>\n",
       "      <td>1</td>\n",
       "      <td>157</td>\n",
       "    </tr>\n",
       "  </tbody>\n",
       "</table>\n",
       "</div>"
      ],
      "text/plain": [
       "                            user_id      age       annual_income country  \\\n",
       "0  35c9fc6e72c911e99681dca9049399ef    18-34   $26,000 - $75,000      JP   \n",
       "1  35c9fdde72c911e98630dca9049399ef    18-34   $26,000 - $75,000      JP   \n",
       "2  35c9feb072c911e9ab4cdca9049399ef    18-34  $76,000 - $150,000      JP   \n",
       "3  35c9ff7072c911e9900ddca9049399ef    18-34  $76,000 - $150,000      JP   \n",
       "4  35ca002672c911e99effdca9049399ef  35 - 54  $76,000 - $150,000      JP   \n",
       "\n",
       "         duolingo_platform                               duolingo_subscriber  \\\n",
       "0  Android phone or tablet           No, I have never paid for Duolingo Plus   \n",
       "1           iPhone or iPad           No, I have never paid for Duolingo Plus   \n",
       "2           iPhone or iPad            Yes, I currently pay for Duolingo Plus   \n",
       "3           iPhone or iPad  No, but I have previously paid for Duolingo Plus   \n",
       "4  Android phone or tablet            Yes, I currently pay for Duolingo Plus   \n",
       "\n",
       "  duolingo_usage   employment_status future_contact  gender  \\\n",
       "0          Daily  Employed full-time            Yes    Male   \n",
       "1         Weekly  Employed full-time            Yes    Male   \n",
       "2          Daily  Employed full-time            Yes    Male   \n",
       "3          Daily  Employed full-time            Yes  Female   \n",
       "4          Daily  Employed full-time            Yes    Male   \n",
       "\n",
       "                                   other_resources  \\\n",
       "0  Stories/novels/children's books,Movies/TV Shows   \n",
       "1                                              NaN   \n",
       "2                                              NaN   \n",
       "3                                       Other apps   \n",
       "4                                              NaN   \n",
       "\n",
       "                         primary_language_commitment  \\\n",
       "0      I'm very committed to learning this language.   \n",
       "1  I'm slightly committed to learning this language.   \n",
       "2  I'm moderately committed to learning this lang...   \n",
       "3      I'm very committed to learning this language.   \n",
       "4      I'm very committed to learning this language.   \n",
       "\n",
       "                             primary_language_review  \\\n",
       "0  I am using Duolingo to review a language I've ...   \n",
       "1  I am using Duolingo to review a language I've ...   \n",
       "2  I am using Duolingo to review a language I've ...   \n",
       "3  I am using Duolingo to learn this language for...   \n",
       "4  I am using Duolingo to learn this language for...   \n",
       "\n",
       "                         primary_language_motivation  \\\n",
       "0                      I like to learn new languages   \n",
       "1  I need to be able to speak the local language ...   \n",
       "2     I want to connect with my heritage or identity   \n",
       "3                          I am preparing for a trip   \n",
       "4     I want to connect with my heritage or identity   \n",
       "\n",
       "                primary_language_motivation_followup  \\\n",
       "0  I want to learn as many languages as I can,Oth...   \n",
       "1                   I am an immigrant,I am a refugee   \n",
       "2                                                NaN   \n",
       "3  I want to learn some basics in the local langu...   \n",
       "4                                                NaN   \n",
       "\n",
       "  primary_language_proficiency                  student  survey_complete  \\\n",
       "0                     Advanced  Not currently a student                1   \n",
       "1                 Intermediate  Not currently a student                1   \n",
       "2                     Beginner  Not currently a student                1   \n",
       "3                 Intermediate  Not currently a student                1   \n",
       "4                 Intermediate  Not currently a student                1   \n",
       "\n",
       "   time_spent_seconds  \n",
       "0                 193  \n",
       "1                 139  \n",
       "2                 119  \n",
       "3                 229  \n",
       "4                 157  "
      ]
     },
     "execution_count": 101,
     "metadata": {},
     "output_type": "execute_result"
    }
   ],
   "source": [
    "# A preview of survey data\n",
    "survey_data.head()"
   ]
  },
  {
   "cell_type": "code",
   "execution_count": 102,
   "metadata": {},
   "outputs": [
    {
     "name": "stdout",
     "output_type": "stream",
     "text": [
      "<class 'pandas.core.frame.DataFrame'>\n",
      "RangeIndex: 6187 entries, 0 to 6186\n",
      "Data columns (total 19 columns):\n",
      " #   Column                                Non-Null Count  Dtype \n",
      "---  ------                                --------------  ----- \n",
      " 0   user_id                               6187 non-null   object\n",
      " 1   age                                   5838 non-null   object\n",
      " 2   annual_income                         5182 non-null   object\n",
      " 3   country                               6187 non-null   object\n",
      " 4   duolingo_platform                     5911 non-null   object\n",
      " 5   duolingo_subscriber                   5901 non-null   object\n",
      " 6   duolingo_usage                        5911 non-null   object\n",
      " 7   employment_status                     5730 non-null   object\n",
      " 8   future_contact                        5446 non-null   object\n",
      " 9   gender                                5838 non-null   object\n",
      " 10  other_resources                       4474 non-null   object\n",
      " 11  primary_language_commitment           6022 non-null   object\n",
      " 12  primary_language_review               6014 non-null   object\n",
      " 13  primary_language_motivation           5948 non-null   object\n",
      " 14  primary_language_motivation_followup  3715 non-null   object\n",
      " 15  primary_language_proficiency          6027 non-null   object\n",
      " 16  student                               5523 non-null   object\n",
      " 17  survey_complete                       6187 non-null   int64 \n",
      " 18  time_spent_seconds                    6187 non-null   int64 \n",
      "dtypes: int64(2), object(17)\n",
      "memory usage: 918.5+ KB\n"
     ]
    }
   ],
   "source": [
    "# Check basic information of survey data\n",
    "survey_data.info()"
   ]
  },
  {
   "cell_type": "markdown",
   "metadata": {},
   "source": [
    "Hmm there are missing values at many columns."
   ]
  },
  {
   "cell_type": "code",
   "execution_count": 103,
   "metadata": {},
   "outputs": [
    {
     "data": {
      "text/plain": [
       "37"
      ]
     },
     "execution_count": 103,
     "metadata": {},
     "output_type": "execute_result"
    }
   ],
   "source": [
    "# Bu first, let's check duplicated user_id\n",
    "duplicated_user_ids = survey_data[survey_data.duplicated(subset='user_id', keep=False)]\n",
    "duplicated_user_ids['user_id'].nunique()"
   ]
  },
  {
   "cell_type": "markdown",
   "metadata": {},
   "source": [
    "Oh there are 37 duplicated unique user_ids. After checking, I figured out that most of duplicated user_id has records in 2 different countries. I decided to remove those user_id! Will make a note for the data team for further exploration on this issue!"
   ]
  },
  {
   "cell_type": "code",
   "execution_count": 104,
   "metadata": {},
   "outputs": [
    {
     "data": {
      "text/plain": [
       "(6150, 20)"
      ]
     },
     "execution_count": 104,
     "metadata": {},
     "output_type": "execute_result"
    }
   ],
   "source": [
    "# Let's remove rows with duplicated user_id\n",
    "survey_data = survey_data.drop_duplicates(subset='user_id').reset_index()\n",
    "survey_data.shape"
   ]
  },
  {
   "cell_type": "code",
   "execution_count": 105,
   "metadata": {},
   "outputs": [
    {
     "data": {
      "text/plain": [
       "primary_language_motivation_followup    39.95\n",
       "other_resources                         27.74\n",
       "annual_income                           16.29\n",
       "future_contact                          11.98\n",
       "student                                 10.75\n",
       "employment_status                        7.41\n",
       "gender                                   5.66\n",
       "age                                      5.66\n",
       "duolingo_subscriber                      4.63\n",
       "duolingo_platform                        4.47\n",
       "duolingo_usage                           4.47\n",
       "primary_language_motivation              3.87\n",
       "primary_language_review                  2.80\n",
       "primary_language_commitment              2.67\n",
       "primary_language_proficiency             2.59\n",
       "survey_complete                          0.00\n",
       "index                                    0.00\n",
       "user_id                                  0.00\n",
       "country                                  0.00\n",
       "time_spent_seconds                       0.00\n",
       "dtype: float64"
      ]
     },
     "execution_count": 105,
     "metadata": {},
     "output_type": "execute_result"
    }
   ],
   "source": [
    "# Now, let's take a closer look at missing values: percentage of missing values\n",
    "round(survey_data.isnull().sum()/len(survey_data) * 100,2).sort_values(ascending=False)"
   ]
  },
  {
   "cell_type": "markdown",
   "metadata": {},
   "source": [
    "Many columns have missing values, ranging from 2 to 40%. I think one of the reason is that there are some incomplete surveys. Let's check!"
   ]
  },
  {
   "cell_type": "code",
   "execution_count": 106,
   "metadata": {},
   "outputs": [
    {
     "data": {
      "text/plain": [
       "7.43"
      ]
     },
     "execution_count": 106,
     "metadata": {},
     "output_type": "execute_result"
    }
   ],
   "source": [
    "# Check how much percentage there is for incomplete surveys\n",
    "round(len(survey_data[survey_data['survey_complete'] == 0]) / len(survey_data) * 100, 2)"
   ]
  },
  {
   "cell_type": "markdown",
   "metadata": {},
   "source": [
    "There are 7.4% uncompleted data. Let see if we remove those incomplete survey, how many missing values are left?"
   ]
  },
  {
   "cell_type": "code",
   "execution_count": 107,
   "metadata": {},
   "outputs": [
    {
     "data": {
      "text/plain": [
       "primary_language_motivation_followup    37.84\n",
       "other_resources                         24.66\n",
       "annual_income                           11.12\n",
       "student                                  5.39\n",
       "future_contact                           4.92\n",
       "employment_status                        1.93\n",
       "duolingo_subscriber                      0.35\n",
       "primary_language_motivation              0.26\n",
       "primary_language_review                  0.23\n",
       "duolingo_usage                           0.21\n",
       "duolingo_platform                        0.19\n",
       "gender                                   0.18\n",
       "age                                      0.16\n",
       "primary_language_commitment              0.11\n",
       "primary_language_proficiency             0.07\n",
       "survey_complete                          0.00\n",
       "index                                    0.00\n",
       "user_id                                  0.00\n",
       "country                                  0.00\n",
       "time_spent_seconds                       0.00\n",
       "dtype: float64"
      ]
     },
     "execution_count": 107,
     "metadata": {},
     "output_type": "execute_result"
    }
   ],
   "source": [
    "# Check how much percentage there is for incomplete surveys - after removing incomplete survey\n",
    "round(survey_data[survey_data['survey_complete'] == 1].isnull().sum()/len(survey_data[survey_data['survey_complete'] == 1]) * 100,2).sort_values(ascending=False)"
   ]
  },
  {
   "cell_type": "markdown",
   "metadata": {},
   "source": [
    "My assumption seems correct! For some columns such as annual income and student, we can base on the age to fill in missing values."
   ]
  },
  {
   "cell_type": "code",
   "execution_count": 108,
   "metadata": {},
   "outputs": [
    {
     "data": {
      "text/html": [
       "<div>\n",
       "<style scoped>\n",
       "    .dataframe tbody tr th:only-of-type {\n",
       "        vertical-align: middle;\n",
       "    }\n",
       "\n",
       "    .dataframe tbody tr th {\n",
       "        vertical-align: top;\n",
       "    }\n",
       "\n",
       "    .dataframe thead th {\n",
       "        text-align: right;\n",
       "    }\n",
       "</style>\n",
       "<table border=\"1\" class=\"dataframe\">\n",
       "  <thead>\n",
       "    <tr style=\"text-align: right;\">\n",
       "      <th></th>\n",
       "      <th>age</th>\n",
       "      <th>annual_income</th>\n",
       "      <th>count</th>\n",
       "    </tr>\n",
       "  </thead>\n",
       "  <tbody>\n",
       "    <tr>\n",
       "      <th>0</th>\n",
       "      <td>18-34</td>\n",
       "      <td>$0 - $10,000</td>\n",
       "      <td>801</td>\n",
       "    </tr>\n",
       "    <tr>\n",
       "      <th>8</th>\n",
       "      <td>35 - 54</td>\n",
       "      <td>$26,000 - $75,000</td>\n",
       "      <td>599</td>\n",
       "    </tr>\n",
       "    <tr>\n",
       "      <th>13</th>\n",
       "      <td>55 - 74</td>\n",
       "      <td>$26,000 - $75,000</td>\n",
       "      <td>377</td>\n",
       "    </tr>\n",
       "    <tr>\n",
       "      <th>18</th>\n",
       "      <td>75 or older</td>\n",
       "      <td>$26,000 - $75,000</td>\n",
       "      <td>41</td>\n",
       "    </tr>\n",
       "    <tr>\n",
       "      <th>20</th>\n",
       "      <td>Under 18</td>\n",
       "      <td>$0 - $10,000</td>\n",
       "      <td>273</td>\n",
       "    </tr>\n",
       "  </tbody>\n",
       "</table>\n",
       "</div>"
      ],
      "text/plain": [
       "            age      annual_income  count\n",
       "0         18-34       $0 - $10,000    801\n",
       "8       35 - 54  $26,000 - $75,000    599\n",
       "13      55 - 74  $26,000 - $75,000    377\n",
       "18  75 or older  $26,000 - $75,000     41\n",
       "20     Under 18       $0 - $10,000    273"
      ]
     },
     "execution_count": 108,
     "metadata": {},
     "output_type": "execute_result"
    }
   ],
   "source": [
    "# Get the most common annual income by age, then I will use this value to replace null missing value\n",
    "## Count number of annual income range by age\n",
    "income_by_age = survey_data.groupby(['age', 'annual_income']).size().reset_index(name='count')\n",
    "\n",
    "## Find the index of the maximum count for each age group\n",
    "max_indices = income_by_age.groupby('age')['count'].idxmax()\n",
    "\n",
    "## Get the most common annual income and its count for each age group\n",
    "most_common_income_by_age = income_by_age.loc[max_indices]\n",
    "\n",
    "most_common_income_by_age\n"
   ]
  },
  {
   "cell_type": "markdown",
   "metadata": {},
   "source": [
    "Cool! We can use those income range to replace for the null values!"
   ]
  },
  {
   "cell_type": "code",
   "execution_count": 109,
   "metadata": {},
   "outputs": [],
   "source": [
    "# Create an age-income mapping based on the output above\n",
    "age_income_mapping = {\n",
    "    '18-34': '$0 - $10,000',\n",
    "    '35 - 54': '$26,000 - $75,000',\n",
    "    '55 - 74': '$26,000 - $75,000',\n",
    "    '75 or older': '$26,000 - $75,000',\n",
    "    'Under 18': '$0 - $10,000'\n",
    "}\n",
    "\n",
    "# Let's replace!\n",
    "for i in range(len(survey_data)):\n",
    "    if pd.isnull(survey_data.at[i, 'annual_income']):\n",
    "        age_above = survey_data.at[i - 1, 'age']  # Get the age group above\n",
    "        survey_data.at[i, 'annual_income'] = age_income_mapping.get(age_above, np.nan)"
   ]
  },
  {
   "cell_type": "markdown",
   "metadata": {},
   "source": [
    "For student, it's much more intuitive!"
   ]
  },
  {
   "cell_type": "code",
   "execution_count": 110,
   "metadata": {},
   "outputs": [
    {
     "data": {
      "text/html": [
       "<div>\n",
       "<style scoped>\n",
       "    .dataframe tbody tr th:only-of-type {\n",
       "        vertical-align: middle;\n",
       "    }\n",
       "\n",
       "    .dataframe tbody tr th {\n",
       "        vertical-align: top;\n",
       "    }\n",
       "\n",
       "    .dataframe thead th {\n",
       "        text-align: right;\n",
       "    }\n",
       "</style>\n",
       "<table border=\"1\" class=\"dataframe\">\n",
       "  <thead>\n",
       "    <tr style=\"text-align: right;\">\n",
       "      <th></th>\n",
       "      <th>age</th>\n",
       "      <th>student</th>\n",
       "      <th>count</th>\n",
       "    </tr>\n",
       "  </thead>\n",
       "  <tbody>\n",
       "    <tr>\n",
       "      <th>0</th>\n",
       "      <td>18-34</td>\n",
       "      <td>Full-time student</td>\n",
       "      <td>461</td>\n",
       "    </tr>\n",
       "    <tr>\n",
       "      <th>1</th>\n",
       "      <td>18-34</td>\n",
       "      <td>Not currently a student</td>\n",
       "      <td>1106</td>\n",
       "    </tr>\n",
       "    <tr>\n",
       "      <th>2</th>\n",
       "      <td>18-34</td>\n",
       "      <td>Part-time student</td>\n",
       "      <td>195</td>\n",
       "    </tr>\n",
       "    <tr>\n",
       "      <th>3</th>\n",
       "      <td>35 - 54</td>\n",
       "      <td>Full-time student</td>\n",
       "      <td>13</td>\n",
       "    </tr>\n",
       "    <tr>\n",
       "      <th>4</th>\n",
       "      <td>35 - 54</td>\n",
       "      <td>Not currently a student</td>\n",
       "      <td>1810</td>\n",
       "    </tr>\n",
       "    <tr>\n",
       "      <th>5</th>\n",
       "      <td>35 - 54</td>\n",
       "      <td>Part-time student</td>\n",
       "      <td>103</td>\n",
       "    </tr>\n",
       "    <tr>\n",
       "      <th>6</th>\n",
       "      <td>55 - 74</td>\n",
       "      <td>Full-time student</td>\n",
       "      <td>6</td>\n",
       "    </tr>\n",
       "    <tr>\n",
       "      <th>7</th>\n",
       "      <td>55 - 74</td>\n",
       "      <td>Not currently a student</td>\n",
       "      <td>1319</td>\n",
       "    </tr>\n",
       "    <tr>\n",
       "      <th>8</th>\n",
       "      <td>55 - 74</td>\n",
       "      <td>Part-time student</td>\n",
       "      <td>33</td>\n",
       "    </tr>\n",
       "    <tr>\n",
       "      <th>9</th>\n",
       "      <td>75 or older</td>\n",
       "      <td>Not currently a student</td>\n",
       "      <td>113</td>\n",
       "    </tr>\n",
       "    <tr>\n",
       "      <th>10</th>\n",
       "      <td>75 or older</td>\n",
       "      <td>Part-time student</td>\n",
       "      <td>3</td>\n",
       "    </tr>\n",
       "    <tr>\n",
       "      <th>11</th>\n",
       "      <td>Under 18</td>\n",
       "      <td>Full-time student</td>\n",
       "      <td>269</td>\n",
       "    </tr>\n",
       "    <tr>\n",
       "      <th>12</th>\n",
       "      <td>Under 18</td>\n",
       "      <td>Not currently a student</td>\n",
       "      <td>28</td>\n",
       "    </tr>\n",
       "    <tr>\n",
       "      <th>13</th>\n",
       "      <td>Under 18</td>\n",
       "      <td>Part-time student</td>\n",
       "      <td>26</td>\n",
       "    </tr>\n",
       "  </tbody>\n",
       "</table>\n",
       "</div>"
      ],
      "text/plain": [
       "            age                  student  count\n",
       "0         18-34        Full-time student    461\n",
       "1         18-34  Not currently a student   1106\n",
       "2         18-34        Part-time student    195\n",
       "3       35 - 54        Full-time student     13\n",
       "4       35 - 54  Not currently a student   1810\n",
       "5       35 - 54        Part-time student    103\n",
       "6       55 - 74        Full-time student      6\n",
       "7       55 - 74  Not currently a student   1319\n",
       "8       55 - 74        Part-time student     33\n",
       "9   75 or older  Not currently a student    113\n",
       "10  75 or older        Part-time student      3\n",
       "11     Under 18        Full-time student    269\n",
       "12     Under 18  Not currently a student     28\n",
       "13     Under 18        Part-time student     26"
      ]
     },
     "execution_count": 110,
     "metadata": {},
     "output_type": "execute_result"
    }
   ],
   "source": [
    "# Count number of student status by age\n",
    "student_by_age = survey_data.groupby(['age', 'student']).size().reset_index(name='count')\n",
    "student_by_age"
   ]
  },
  {
   "cell_type": "markdown",
   "metadata": {},
   "source": [
    "We can easily realize that for under 18 group, they are mostly full-time students. For other groups, the majority is \"Not currently a student\""
   ]
  },
  {
   "cell_type": "code",
   "execution_count": 111,
   "metadata": {},
   "outputs": [],
   "source": [
    "# Create age-student mapping\n",
    "age_student_mapping = {\n",
    "    '18-34': 'Not currently a student',\n",
    "    '35 - 54': 'Not currently a student',\n",
    "    '55 - 74': 'Not currently a student',\n",
    "    '75 or older': 'Not currently a student',\n",
    "    'Under 18': 'Full-time student'\n",
    "}\n",
    "\n",
    "\n",
    "# Let's replace!\n",
    "for i in range(len(survey_data)):\n",
    "    if pd.isnull(survey_data.at[i, 'student']):\n",
    "        age_above = survey_data.at[i - 1, 'age']  # Get the age group above\n",
    "        survey_data.at[i, 'student'] = age_student_mapping.get(age_above, np.nan)"
   ]
  },
  {
   "cell_type": "markdown",
   "metadata": {},
   "source": [
    "Let's check the result after our effort of handling missing values!"
   ]
  },
  {
   "cell_type": "code",
   "execution_count": 112,
   "metadata": {},
   "outputs": [
    {
     "data": {
      "text/plain": [
       "primary_language_motivation_followup    37.84\n",
       "other_resources                         24.66\n",
       "future_contact                           4.92\n",
       "employment_status                        1.93\n",
       "duolingo_subscriber                      0.35\n",
       "annual_income                            0.30\n",
       "primary_language_motivation              0.26\n",
       "primary_language_review                  0.23\n",
       "duolingo_usage                           0.21\n",
       "duolingo_platform                        0.19\n",
       "gender                                   0.18\n",
       "age                                      0.16\n",
       "student                                  0.12\n",
       "primary_language_commitment              0.11\n",
       "primary_language_proficiency             0.07\n",
       "survey_complete                          0.00\n",
       "index                                    0.00\n",
       "user_id                                  0.00\n",
       "country                                  0.00\n",
       "time_spent_seconds                       0.00\n",
       "dtype: float64"
      ]
     },
     "execution_count": 112,
     "metadata": {},
     "output_type": "execute_result"
    }
   ],
   "source": [
    "# Check how much percentage there is for incomplete surveys - after removing incomplete survey\n",
    "round(survey_data[survey_data['survey_complete'] == 1].isnull().sum()/len(survey_data[survey_data['survey_complete'] == 1]) * 100,2).sort_values(ascending=False)"
   ]
  },
  {
   "cell_type": "markdown",
   "metadata": {},
   "source": [
    "The percentage of missing values for age and student reduces significantly. For columns such as primary_language_motivation_followup, other_resources and future_contact, I'm thinking they are not useful for the clustering model. So just keep it there first!\n",
    "Let's discover some insights from the dataset."
   ]
  },
  {
   "cell_type": "markdown",
   "metadata": {},
   "source": [
    "Let check the values for each column"
   ]
  },
  {
   "cell_type": "code",
   "execution_count": 113,
   "metadata": {},
   "outputs": [
    {
     "name": "stdout",
     "output_type": "stream",
     "text": [
      "country\n",
      "FR    996\n",
      "JP    895\n",
      "MX    886\n",
      "RU    682\n",
      "GB    655\n",
      "DE    619\n",
      "US    456\n",
      "BR    373\n",
      "CO    313\n",
      "TW    275\n",
      "Name: count, dtype: int64\n",
      "-------------------\n",
      "duolingo_platform\n",
      "Android phone or tablet    2582\n",
      "iPhone or iPad             2474\n",
      "Web browser                 819\n",
      "Name: count, dtype: int64\n",
      "-------------------\n",
      "duolingo_subscriber\n",
      "No, I have never paid for Duolingo Plus             3895\n",
      "Yes, I currently pay for Duolingo Plus              1606\n",
      "I don't know if I pay for Duolingo Plus              212\n",
      "No, but I have previously paid for Duolingo Plus     152\n",
      "Name: count, dtype: int64\n",
      "-------------------\n",
      "duolingo_usage\n",
      "Daily                     4311\n",
      "Weekly                    1067\n",
      "Monthly                    290\n",
      "Less than once a month     177\n",
      "I don't use Duolingo        30\n",
      "Name: count, dtype: int64\n",
      "-------------------\n",
      "employment_status\n",
      "Employed full-time    2891\n",
      "Retired               1032\n",
      "Unemployed             933\n",
      "Employed part-time     838\n",
      "Name: count, dtype: int64\n",
      "-------------------\n",
      "future_contact\n",
      "Yes    4453\n",
      "No      960\n",
      "Name: count, dtype: int64\n",
      "-------------------\n",
      "gender\n",
      "Female               2908\n",
      "Male                 2773\n",
      "Prefer not to say      98\n",
      "Other                  23\n",
      "Name: count, dtype: int64\n",
      "-------------------\n",
      "primary_language_commitment\n",
      "I'm very committed to learning this language.          2349\n",
      "I'm moderately committed to learning this language.    2013\n",
      "I'm extremely committed to learning this language.      863\n",
      "I'm slightly committed to learning this language.       631\n",
      "I'm not at all committed to learning this language.     130\n",
      "Name: count, dtype: int64\n",
      "-------------------\n",
      "primary_language_review\n",
      "I am using Duolingo to learn this language for the first time.    3018\n",
      "I am using Duolingo to review a language I've studied before.     2960\n",
      "Name: count, dtype: int64\n",
      "-------------------\n",
      "primary_language_motivation\n",
      "I need to be able to speak the local language where I live            808\n",
      "I want to use my time more productively                               736\n",
      "I want to keep my brain healthy                                       708\n",
      "I am preparing for a trip                                             707\n",
      "I want to connect with my heritage or identity                        632\n",
      "I want to improve relationships with some of the people in my life    495\n",
      "I like to learn new languages                                         454\n",
      "I want my family to learn a language together                         398\n",
      "I am interested in a culture that speaks this language                327\n",
      "I want to advance professionally or economically                      278\n",
      "I want to challenge myself                                            162\n",
      "I need to learn this language for school                              150\n",
      "I don't want to forget what I've previously learned                    57\n",
      "Name: count, dtype: int64\n",
      "-------------------\n",
      "primary_language_proficiency\n",
      "Beginner        3188\n",
      "Intermediate    2447\n",
      "Advanced         356\n",
      "Name: count, dtype: int64\n",
      "-------------------\n",
      "student\n",
      "Not currently a student    4830\n",
      "Full-time student           777\n",
      "Part-time student           361\n",
      "Name: count, dtype: int64\n",
      "-------------------\n",
      "survey_complete\n",
      "1    5693\n",
      "0     457\n",
      "Name: count, dtype: int64\n",
      "-------------------\n"
     ]
    }
   ],
   "source": [
    "# Count values by each categorical column\n",
    "for column in survey_data[['country', 'duolingo_platform',\t'duolingo_subscriber',\t'duolingo_usage',\t'employment_status',\t'future_contact',\t'gender',\t'primary_language_commitment',\t'primary_language_review',\t'primary_language_motivation',\t'primary_language_proficiency',\t'student',\t'survey_complete']].columns:\n",
    "    print( survey_data[column].value_counts())\n",
    "    print('-------------------')"
   ]
  },
  {
   "cell_type": "code",
   "execution_count": 114,
   "metadata": {},
   "outputs": [
    {
     "data": {
      "text/plain": [
       "count      6150.000000\n",
       "mean       3342.838211\n",
       "std       26346.767242\n",
       "min        -297.000000\n",
       "25%         234.000000\n",
       "50%         325.500000\n",
       "75%         470.000000\n",
       "max      584939.000000\n",
       "Name: time_spent_seconds, dtype: float64"
      ]
     },
     "execution_count": 114,
     "metadata": {},
     "output_type": "execute_result"
    }
   ],
   "source": [
    "# Let's take a look at how much time users spent on this survey\n",
    "survey_data['time_spent_seconds'].describe()"
   ]
  },
  {
   "cell_type": "markdown",
   "metadata": {},
   "source": [
    "There are some people spending negative time filling this survey! Let's remove them!"
   ]
  },
  {
   "cell_type": "code",
   "execution_count": 115,
   "metadata": {},
   "outputs": [
    {
     "data": {
      "text/plain": [
       "array([-165.12,   77.96,  152.  ,  173.  ,  188.  ,  201.  ,  212.  ,\n",
       "        223.  ,  234.  ,  245.  ,  256.  ,  265.  ,  276.  ,  287.  ,\n",
       "        299.  ,  310.  ,  321.01,  335.  ,  347.  ,  360.  ,  375.89,\n",
       "        390.  ,  409.  ,  428.  ,  453.  ,  481.  ,  510.71,  555.18,\n",
       "        615.  ,  691.12,  818.59, 1107.06, 3507.95])"
      ]
     },
     "execution_count": 115,
     "metadata": {},
     "output_type": "execute_result"
    }
   ],
   "source": [
    "# Take a look at the time spent distribution\n",
    "np.percentile(survey_data['time_spent_seconds'], np.arange(1, 100,3))"
   ]
  },
  {
   "cell_type": "code",
   "execution_count": 116,
   "metadata": {},
   "outputs": [
    {
     "data": {
      "text/plain": [
       "(5794, 20)"
      ]
     },
     "execution_count": 116,
     "metadata": {},
     "output_type": "execute_result"
    }
   ],
   "source": [
    "# I will filter out the survey that has time spent less than 30 seconds or more than 3500 seconds.\n",
    "survey_data = survey_data[(survey_data['time_spent_seconds']>=30)]\n",
    "survey_data = survey_data[(survey_data['time_spent_seconds']<3500)]\n",
    "\n",
    "survey_data.shape"
   ]
  },
  {
   "cell_type": "markdown",
   "metadata": {},
   "source": [
    "### App Usage ###"
   ]
  },
  {
   "cell_type": "code",
   "execution_count": 117,
   "metadata": {},
   "outputs": [
    {
     "data": {
      "text/html": [
       "<div>\n",
       "<style scoped>\n",
       "    .dataframe tbody tr th:only-of-type {\n",
       "        vertical-align: middle;\n",
       "    }\n",
       "\n",
       "    .dataframe tbody tr th {\n",
       "        vertical-align: top;\n",
       "    }\n",
       "\n",
       "    .dataframe thead th {\n",
       "        text-align: right;\n",
       "    }\n",
       "</style>\n",
       "<table border=\"1\" class=\"dataframe\">\n",
       "  <thead>\n",
       "    <tr style=\"text-align: right;\">\n",
       "      <th></th>\n",
       "      <th>user_id</th>\n",
       "      <th>duolingo_start_date</th>\n",
       "      <th>daily_goal</th>\n",
       "      <th>highest_course_progress</th>\n",
       "      <th>took_placement_test</th>\n",
       "      <th>purchased_subscription</th>\n",
       "      <th>highest_crown_count</th>\n",
       "      <th>n_active_days</th>\n",
       "      <th>n_lessons_started</th>\n",
       "      <th>n_lessons_completed</th>\n",
       "      <th>longest_streak</th>\n",
       "      <th>n_days_on_platform</th>\n",
       "    </tr>\n",
       "  </thead>\n",
       "  <tbody>\n",
       "    <tr>\n",
       "      <th>0</th>\n",
       "      <td>35cb7e8f72c911e9888edca9049399ef</td>\n",
       "      <td>1/10/22 21:14</td>\n",
       "      <td>NaN</td>\n",
       "      <td>46.0</td>\n",
       "      <td>True</td>\n",
       "      <td>False</td>\n",
       "      <td>277.0</td>\n",
       "      <td>88</td>\n",
       "      <td>741.0</td>\n",
       "      <td>668.0</td>\n",
       "      <td>135</td>\n",
       "      <td>137</td>\n",
       "    </tr>\n",
       "    <tr>\n",
       "      <th>1</th>\n",
       "      <td>35ca34fd72c911e99ed6dca9049399ef</td>\n",
       "      <td>2/28/21 5:01</td>\n",
       "      <td>NaN</td>\n",
       "      <td>50.0</td>\n",
       "      <td>True</td>\n",
       "      <td>False</td>\n",
       "      <td>62.0</td>\n",
       "      <td>16</td>\n",
       "      <td>57.0</td>\n",
       "      <td>57.0</td>\n",
       "      <td>6</td>\n",
       "      <td>453</td>\n",
       "    </tr>\n",
       "    <tr>\n",
       "      <th>2</th>\n",
       "      <td>35d1a54a72c911e98e25dca9049399ef</td>\n",
       "      <td>5/7/18 17:55</td>\n",
       "      <td>1.0</td>\n",
       "      <td>71.0</td>\n",
       "      <td>False</td>\n",
       "      <td>False</td>\n",
       "      <td>202.0</td>\n",
       "      <td>29</td>\n",
       "      <td>315.0</td>\n",
       "      <td>295.0</td>\n",
       "      <td>55</td>\n",
       "      <td>1481</td>\n",
       "    </tr>\n",
       "    <tr>\n",
       "      <th>3</th>\n",
       "      <td>35d4beb072c911e9aa92dca9049399ef</td>\n",
       "      <td>4/27/22 9:28</td>\n",
       "      <td>NaN</td>\n",
       "      <td>2.0</td>\n",
       "      <td>False</td>\n",
       "      <td>False</td>\n",
       "      <td>2.0</td>\n",
       "      <td>3</td>\n",
       "      <td>6.0</td>\n",
       "      <td>5.0</td>\n",
       "      <td>1</td>\n",
       "      <td>30</td>\n",
       "    </tr>\n",
       "    <tr>\n",
       "      <th>4</th>\n",
       "      <td>35ccf4bd72c911e9be2edca9049399ef</td>\n",
       "      <td>4/9/19 3:16</td>\n",
       "      <td>NaN</td>\n",
       "      <td>34.0</td>\n",
       "      <td>False</td>\n",
       "      <td>False</td>\n",
       "      <td>216.0</td>\n",
       "      <td>57</td>\n",
       "      <td>338.0</td>\n",
       "      <td>297.0</td>\n",
       "      <td>56</td>\n",
       "      <td>1144</td>\n",
       "    </tr>\n",
       "  </tbody>\n",
       "</table>\n",
       "</div>"
      ],
      "text/plain": [
       "                            user_id duolingo_start_date  daily_goal  \\\n",
       "0  35cb7e8f72c911e9888edca9049399ef       1/10/22 21:14         NaN   \n",
       "1  35ca34fd72c911e99ed6dca9049399ef        2/28/21 5:01         NaN   \n",
       "2  35d1a54a72c911e98e25dca9049399ef        5/7/18 17:55         1.0   \n",
       "3  35d4beb072c911e9aa92dca9049399ef        4/27/22 9:28         NaN   \n",
       "4  35ccf4bd72c911e9be2edca9049399ef         4/9/19 3:16         NaN   \n",
       "\n",
       "   highest_course_progress took_placement_test  purchased_subscription  \\\n",
       "0                     46.0                True                   False   \n",
       "1                     50.0                True                   False   \n",
       "2                     71.0               False                   False   \n",
       "3                      2.0               False                   False   \n",
       "4                     34.0               False                   False   \n",
       "\n",
       "   highest_crown_count  n_active_days  n_lessons_started  n_lessons_completed  \\\n",
       "0                277.0             88              741.0                668.0   \n",
       "1                 62.0             16               57.0                 57.0   \n",
       "2                202.0             29              315.0                295.0   \n",
       "3                  2.0              3                6.0                  5.0   \n",
       "4                216.0             57              338.0                297.0   \n",
       "\n",
       "   longest_streak  n_days_on_platform  \n",
       "0             135                 137  \n",
       "1               6                 453  \n",
       "2              55                1481  \n",
       "3               1                  30  \n",
       "4              56                1144  "
      ]
     },
     "execution_count": 117,
     "metadata": {},
     "output_type": "execute_result"
    }
   ],
   "source": [
    "# Read the App Usage data\n",
    "app_usage = pd.read_csv('survey_users_app_usage.csv')\n",
    "app_usage.drop(columns='Unnamed: 12', inplace= True, axis=1)\n",
    "app_usage.head()"
   ]
  },
  {
   "cell_type": "markdown",
   "metadata": {},
   "source": [
    "This data mainly contains engagement metrics, helping provide more insights for the survey data."
   ]
  },
  {
   "cell_type": "code",
   "execution_count": 118,
   "metadata": {},
   "outputs": [],
   "source": [
    "# Let's merge survey and app usage data for further exploration.\n",
    "merged_data = pd.merge(survey_data, app_usage, on='user_id', how='inner')"
   ]
  },
  {
   "cell_type": "markdown",
   "metadata": {},
   "source": [
    "1. Let's check the reliability of the survey, by quickly comparing some information, such as subscription info between survey and app usage data."
   ]
  },
  {
   "cell_type": "code",
   "execution_count": 119,
   "metadata": {},
   "outputs": [
    {
     "data": {
      "text/plain": [
       "age\n",
       "18-34          0.248662\n",
       "35 - 54        0.337513\n",
       "55 - 74        0.435191\n",
       "75 or older    0.488000\n",
       "Under 18       0.096774\n",
       "Name: count, dtype: float64"
      ]
     },
     "execution_count": 119,
     "metadata": {},
     "output_type": "execute_result"
    }
   ],
   "source": [
    "# Percentage of actual subscribers by age (during the sample period)\n",
    "merged_data[merged_data['purchased_subscription'] == 1]['age'].value_counts()/merged_data['age'].value_counts()"
   ]
  },
  {
   "cell_type": "code",
   "execution_count": 120,
   "metadata": {},
   "outputs": [
    {
     "data": {
      "text/plain": [
       "age\n",
       "18-34          0.214158\n",
       "35 - 54        0.321317\n",
       "55 - 74        0.416387\n",
       "75 or older    0.480000\n",
       "Under 18       0.077419\n",
       "Name: count, dtype: float64"
      ]
     },
     "execution_count": 120,
     "metadata": {},
     "output_type": "execute_result"
    }
   ],
   "source": [
    "# Percentage of subscriber status (according to the survey) by age (during the sample period plus previous time)\n",
    "merged_data[(merged_data['duolingo_subscriber'] == 'Yes, I currently pay for Duolingo Plus') | (merged_data['duolingo_subscriber'] == 'No, but I have previously paid for Duolingo Plus')]['age'].value_counts()/merged_data['age'].value_counts()"
   ]
  },
  {
   "cell_type": "markdown",
   "metadata": {},
   "source": [
    "We see that the percentage in both data sources is quite consistent. Therefore, the quality of the survey is quite good!\n",
    "- Note: in the survey, I also counted the option \"No, but I have previously paid for Duolingo Plus\", because users may just cancel their subscription in the sample period. But no worries, the option \"Yes, I currently pay for Duolingo Plus\" is much more significant!"
   ]
  },
  {
   "cell_type": "markdown",
   "metadata": {},
   "source": [
    "2. Let's see engagement by age"
   ]
  },
  {
   "cell_type": "code",
   "execution_count": 121,
   "metadata": {},
   "outputs": [
    {
     "data": {
      "text/html": [
       "<style type=\"text/css\">\n",
       "#T_4c134_row0_col0, #T_4c134_row1_col0, #T_4c134_row2_col0, #T_4c134_row3_col0, #T_4c134_row4_col0, #T_4c134_row4_col1, #T_4c134_row4_col2, #T_4c134_row4_col3, #T_4c134_row4_col4, #T_4c134_row4_col5, #T_4c134_row4_col6, #T_4c134_row4_col7 {\n",
       "  background-color: #a50026;\n",
       "  color: #f1f1f1;\n",
       "}\n",
       "#T_4c134_row0_col1 {\n",
       "  background-color: #f7fcb4;\n",
       "  color: #000000;\n",
       "}\n",
       "#T_4c134_row0_col2 {\n",
       "  background-color: #fec877;\n",
       "  color: #000000;\n",
       "}\n",
       "#T_4c134_row0_col3 {\n",
       "  background-color: #f57547;\n",
       "  color: #f1f1f1;\n",
       "}\n",
       "#T_4c134_row0_col4 {\n",
       "  background-color: #f99355;\n",
       "  color: #000000;\n",
       "}\n",
       "#T_4c134_row0_col5 {\n",
       "  background-color: #fca55d;\n",
       "  color: #000000;\n",
       "}\n",
       "#T_4c134_row0_col6 {\n",
       "  background-color: #f67a49;\n",
       "  color: #f1f1f1;\n",
       "}\n",
       "#T_4c134_row0_col7 {\n",
       "  background-color: #e8f59f;\n",
       "  color: #000000;\n",
       "}\n",
       "#T_4c134_row1_col1 {\n",
       "  background-color: #51b35e;\n",
       "  color: #f1f1f1;\n",
       "}\n",
       "#T_4c134_row1_col2 {\n",
       "  background-color: #a5d86a;\n",
       "  color: #000000;\n",
       "}\n",
       "#T_4c134_row1_col3 {\n",
       "  background-color: #c7e77f;\n",
       "  color: #000000;\n",
       "}\n",
       "#T_4c134_row1_col4 {\n",
       "  background-color: #cdea83;\n",
       "  color: #000000;\n",
       "}\n",
       "#T_4c134_row1_col5 {\n",
       "  background-color: #b9e176;\n",
       "  color: #000000;\n",
       "}\n",
       "#T_4c134_row1_col6 {\n",
       "  background-color: #bbe278;\n",
       "  color: #000000;\n",
       "}\n",
       "#T_4c134_row1_col7 {\n",
       "  background-color: #f5fbb2;\n",
       "  color: #000000;\n",
       "}\n",
       "#T_4c134_row2_col1 {\n",
       "  background-color: #16914d;\n",
       "  color: #f1f1f1;\n",
       "}\n",
       "#T_4c134_row2_col2, #T_4c134_row2_col6, #T_4c134_row3_col1, #T_4c134_row3_col3, #T_4c134_row3_col4, #T_4c134_row3_col5, #T_4c134_row3_col7 {\n",
       "  background-color: #006837;\n",
       "  color: #f1f1f1;\n",
       "}\n",
       "#T_4c134_row2_col3 {\n",
       "  background-color: #17934e;\n",
       "  color: #f1f1f1;\n",
       "}\n",
       "#T_4c134_row2_col4, #T_4c134_row3_col6 {\n",
       "  background-color: #0f8446;\n",
       "  color: #f1f1f1;\n",
       "}\n",
       "#T_4c134_row2_col5 {\n",
       "  background-color: #05713c;\n",
       "  color: #f1f1f1;\n",
       "}\n",
       "#T_4c134_row2_col7 {\n",
       "  background-color: #c3e67d;\n",
       "  color: #000000;\n",
       "}\n",
       "#T_4c134_row3_col2 {\n",
       "  background-color: #097940;\n",
       "  color: #f1f1f1;\n",
       "}\n",
       "</style>\n",
       "<table id=\"T_4c134\">\n",
       "  <thead>\n",
       "    <tr>\n",
       "      <th class=\"blank level0\" >&nbsp;</th>\n",
       "      <th id=\"T_4c134_level0_col0\" class=\"col_heading level0 col0\" >daily_goal</th>\n",
       "      <th id=\"T_4c134_level0_col1\" class=\"col_heading level0 col1\" >highest_course_progress</th>\n",
       "      <th id=\"T_4c134_level0_col2\" class=\"col_heading level0 col2\" >highest_crown_count</th>\n",
       "      <th id=\"T_4c134_level0_col3\" class=\"col_heading level0 col3\" >n_active_days</th>\n",
       "      <th id=\"T_4c134_level0_col4\" class=\"col_heading level0 col4\" >n_lessons_started</th>\n",
       "      <th id=\"T_4c134_level0_col5\" class=\"col_heading level0 col5\" >n_lessons_completed</th>\n",
       "      <th id=\"T_4c134_level0_col6\" class=\"col_heading level0 col6\" >longest_streak</th>\n",
       "      <th id=\"T_4c134_level0_col7\" class=\"col_heading level0 col7\" >n_days_on_platform</th>\n",
       "    </tr>\n",
       "    <tr>\n",
       "      <th class=\"index_name level0\" >age</th>\n",
       "      <th class=\"blank col0\" >&nbsp;</th>\n",
       "      <th class=\"blank col1\" >&nbsp;</th>\n",
       "      <th class=\"blank col2\" >&nbsp;</th>\n",
       "      <th class=\"blank col3\" >&nbsp;</th>\n",
       "      <th class=\"blank col4\" >&nbsp;</th>\n",
       "      <th class=\"blank col5\" >&nbsp;</th>\n",
       "      <th class=\"blank col6\" >&nbsp;</th>\n",
       "      <th class=\"blank col7\" >&nbsp;</th>\n",
       "    </tr>\n",
       "  </thead>\n",
       "  <tbody>\n",
       "    <tr>\n",
       "      <th id=\"T_4c134_level0_row0\" class=\"row_heading level0 row0\" >18-34</th>\n",
       "      <td id=\"T_4c134_row0_col0\" class=\"data row0 col0\" >20.000000</td>\n",
       "      <td id=\"T_4c134_row0_col1\" class=\"data row0 col1\" >22.000000</td>\n",
       "      <td id=\"T_4c134_row0_col2\" class=\"data row0 col2\" >59.000000</td>\n",
       "      <td id=\"T_4c134_row0_col3\" class=\"data row0 col3\" >27.000000</td>\n",
       "      <td id=\"T_4c134_row0_col4\" class=\"data row0 col4\" >108.000000</td>\n",
       "      <td id=\"T_4c134_row0_col5\" class=\"data row0 col5\" >99.000000</td>\n",
       "      <td id=\"T_4c134_row0_col6\" class=\"data row0 col6\" >10.000000</td>\n",
       "      <td id=\"T_4c134_row0_col7\" class=\"data row0 col7\" >433.000000</td>\n",
       "    </tr>\n",
       "    <tr>\n",
       "      <th id=\"T_4c134_level0_row1\" class=\"row_heading level0 row1\" >35 - 54</th>\n",
       "      <td id=\"T_4c134_row1_col0\" class=\"data row1 col0\" >20.000000</td>\n",
       "      <td id=\"T_4c134_row1_col1\" class=\"data row1 col1\" >29.000000</td>\n",
       "      <td id=\"T_4c134_row1_col2\" class=\"data row1 col2\" >95.000000</td>\n",
       "      <td id=\"T_4c134_row1_col3\" class=\"data row1 col3\" >55.000000</td>\n",
       "      <td id=\"T_4c134_row1_col4\" class=\"data row1 col4\" >188.000000</td>\n",
       "      <td id=\"T_4c134_row1_col5\" class=\"data row1 col5\" >174.000000</td>\n",
       "      <td id=\"T_4c134_row1_col6\" class=\"data row1 col6\" >24.000000</td>\n",
       "      <td id=\"T_4c134_row1_col7\" class=\"data row1 col7\" >416.000000</td>\n",
       "    </tr>\n",
       "    <tr>\n",
       "      <th id=\"T_4c134_level0_row2\" class=\"row_heading level0 row2\" >55 - 74</th>\n",
       "      <td id=\"T_4c134_row2_col0\" class=\"data row2 col0\" >20.000000</td>\n",
       "      <td id=\"T_4c134_row2_col1\" class=\"data row2 col1\" >31.000000</td>\n",
       "      <td id=\"T_4c134_row2_col2\" class=\"data row2 col2\" >126.000000</td>\n",
       "      <td id=\"T_4c134_row2_col3\" class=\"data row2 col3\" >73.000000</td>\n",
       "      <td id=\"T_4c134_row2_col4\" class=\"data row2 col4\" >257.500000</td>\n",
       "      <td id=\"T_4c134_row2_col5\" class=\"data row2 col5\" >238.000000</td>\n",
       "      <td id=\"T_4c134_row2_col6\" class=\"data row2 col6\" >35.000000</td>\n",
       "      <td id=\"T_4c134_row2_col7\" class=\"data row2 col7\" >475.000000</td>\n",
       "    </tr>\n",
       "    <tr>\n",
       "      <th id=\"T_4c134_level0_row3\" class=\"row_heading level0 row3\" >75 or older</th>\n",
       "      <td id=\"T_4c134_row3_col0\" class=\"data row3 col0\" >20.000000</td>\n",
       "      <td id=\"T_4c134_row3_col1\" class=\"data row3 col1\" >33.000000</td>\n",
       "      <td id=\"T_4c134_row3_col2\" class=\"data row3 col2\" >122.000000</td>\n",
       "      <td id=\"T_4c134_row3_col3\" class=\"data row3 col3\" >79.000000</td>\n",
       "      <td id=\"T_4c134_row3_col4\" class=\"data row3 col4\" >271.000000</td>\n",
       "      <td id=\"T_4c134_row3_col5\" class=\"data row3 col5\" >242.000000</td>\n",
       "      <td id=\"T_4c134_row3_col6\" class=\"data row3 col6\" >33.000000</td>\n",
       "      <td id=\"T_4c134_row3_col7\" class=\"data row3 col7\" >656.000000</td>\n",
       "    </tr>\n",
       "    <tr>\n",
       "      <th id=\"T_4c134_level0_row4\" class=\"row_heading level0 row4\" >Under 18</th>\n",
       "      <td id=\"T_4c134_row4_col0\" class=\"data row4 col0\" >20.000000</td>\n",
       "      <td id=\"T_4c134_row4_col1\" class=\"data row4 col1\" >10.000000</td>\n",
       "      <td id=\"T_4c134_row4_col2\" class=\"data row4 col2\" >22.500000</td>\n",
       "      <td id=\"T_4c134_row4_col3\" class=\"data row4 col3\" >13.000000</td>\n",
       "      <td id=\"T_4c134_row4_col4\" class=\"data row4 col4\" >51.000000</td>\n",
       "      <td id=\"T_4c134_row4_col5\" class=\"data row4 col5\" >41.000000</td>\n",
       "      <td id=\"T_4c134_row4_col6\" class=\"data row4 col6\" >3.000000</td>\n",
       "      <td id=\"T_4c134_row4_col7\" class=\"data row4 col7\" >150.500000</td>\n",
       "    </tr>\n",
       "  </tbody>\n",
       "</table>\n"
      ],
      "text/plain": [
       "<pandas.io.formats.style.Styler at 0x131592100>"
      ]
     },
     "execution_count": 121,
     "metadata": {},
     "output_type": "execute_result"
    }
   ],
   "source": [
    "# Get engagement metrics by age\n",
    "merged_data.groupby('age')[['daily_goal', 'highest_course_progress','highest_crown_count', 'n_active_days', 'n_lessons_started', 'n_lessons_completed','longest_streak','n_days_on_platform']].median().style.background_gradient(cmap='RdYlGn')"
   ]
  },
  {
   "cell_type": "markdown",
   "metadata": {},
   "source": [
    "It's clear that the older the users are, the better their learning engagement is!"
   ]
  },
  {
   "cell_type": "markdown",
   "metadata": {},
   "source": [
    "3. Let's see some insights for the subscriber group."
   ]
  },
  {
   "cell_type": "code",
   "execution_count": 122,
   "metadata": {},
   "outputs": [
    {
     "data": {
      "text/html": [
       "<style type=\"text/css\">\n",
       "#T_bfb6e_row0_col0 {\n",
       "  background-color: #feda86;\n",
       "  color: #000000;\n",
       "}\n",
       "#T_bfb6e_row1_col0 {\n",
       "  background-color: #d1ec86;\n",
       "  color: #000000;\n",
       "}\n",
       "#T_bfb6e_row2_col0 {\n",
       "  background-color: #33a456;\n",
       "  color: #f1f1f1;\n",
       "}\n",
       "#T_bfb6e_row3_col0 {\n",
       "  background-color: #006837;\n",
       "  color: #f1f1f1;\n",
       "}\n",
       "#T_bfb6e_row4_col0 {\n",
       "  background-color: #a50026;\n",
       "  color: #f1f1f1;\n",
       "}\n",
       "</style>\n",
       "<table id=\"T_bfb6e\">\n",
       "  <thead>\n",
       "    <tr>\n",
       "      <th class=\"blank level0\" >&nbsp;</th>\n",
       "      <th id=\"T_bfb6e_level0_col0\" class=\"col_heading level0 col0\" >purchased_subscription</th>\n",
       "    </tr>\n",
       "    <tr>\n",
       "      <th class=\"index_name level0\" >age</th>\n",
       "      <th class=\"blank col0\" >&nbsp;</th>\n",
       "    </tr>\n",
       "  </thead>\n",
       "  <tbody>\n",
       "    <tr>\n",
       "      <th id=\"T_bfb6e_level0_row0\" class=\"row_heading level0 row0\" >18-34</th>\n",
       "      <td id=\"T_bfb6e_row0_col0\" class=\"data row0 col0\" >0.248662</td>\n",
       "    </tr>\n",
       "    <tr>\n",
       "      <th id=\"T_bfb6e_level0_row1\" class=\"row_heading level0 row1\" >35 - 54</th>\n",
       "      <td id=\"T_bfb6e_row1_col0\" class=\"data row1 col0\" >0.337513</td>\n",
       "    </tr>\n",
       "    <tr>\n",
       "      <th id=\"T_bfb6e_level0_row2\" class=\"row_heading level0 row2\" >55 - 74</th>\n",
       "      <td id=\"T_bfb6e_row2_col0\" class=\"data row2 col0\" >0.435191</td>\n",
       "    </tr>\n",
       "    <tr>\n",
       "      <th id=\"T_bfb6e_level0_row3\" class=\"row_heading level0 row3\" >75 or older</th>\n",
       "      <td id=\"T_bfb6e_row3_col0\" class=\"data row3 col0\" >0.488000</td>\n",
       "    </tr>\n",
       "    <tr>\n",
       "      <th id=\"T_bfb6e_level0_row4\" class=\"row_heading level0 row4\" >Under 18</th>\n",
       "      <td id=\"T_bfb6e_row4_col0\" class=\"data row4 col0\" >0.096774</td>\n",
       "    </tr>\n",
       "  </tbody>\n",
       "</table>\n"
      ],
      "text/plain": [
       "<pandas.io.formats.style.Styler at 0x127810bb0>"
      ]
     },
     "execution_count": 122,
     "metadata": {},
     "output_type": "execute_result"
    }
   ],
   "source": [
    "# Percentage of subscription by age\n",
    "subscription_count_by_age = merged_data.groupby('age')[['purchased_subscription']].sum() /  merged_data.groupby('age')[['purchased_subscription']].count()\n",
    "subscription_count_by_age.style.background_gradient(cmap='RdYlGn')"
   ]
  },
  {
   "cell_type": "markdown",
   "metadata": {},
   "source": [
    "Wow, it's the older users who subscribe more! For sure, the engagement of subscribers will much higher than non-subscribers!"
   ]
  },
  {
   "cell_type": "code",
   "execution_count": 123,
   "metadata": {},
   "outputs": [
    {
     "data": {
      "text/html": [
       "<style type=\"text/css\">\n",
       "#T_65000_row0_col0, #T_65000_row0_col1, #T_65000_row0_col2, #T_65000_row0_col3, #T_65000_row0_col4, #T_65000_row0_col5, #T_65000_row0_col6, #T_65000_row0_col7, #T_65000_row1_col0 {\n",
       "  background-color: #a50026;\n",
       "  color: #f1f1f1;\n",
       "}\n",
       "#T_65000_row1_col1, #T_65000_row1_col2, #T_65000_row1_col3, #T_65000_row1_col4, #T_65000_row1_col5, #T_65000_row1_col6, #T_65000_row1_col7 {\n",
       "  background-color: #006837;\n",
       "  color: #f1f1f1;\n",
       "}\n",
       "</style>\n",
       "<table id=\"T_65000\">\n",
       "  <thead>\n",
       "    <tr>\n",
       "      <th class=\"blank level0\" >&nbsp;</th>\n",
       "      <th id=\"T_65000_level0_col0\" class=\"col_heading level0 col0\" >daily_goal</th>\n",
       "      <th id=\"T_65000_level0_col1\" class=\"col_heading level0 col1\" >highest_course_progress</th>\n",
       "      <th id=\"T_65000_level0_col2\" class=\"col_heading level0 col2\" >highest_crown_count</th>\n",
       "      <th id=\"T_65000_level0_col3\" class=\"col_heading level0 col3\" >n_active_days</th>\n",
       "      <th id=\"T_65000_level0_col4\" class=\"col_heading level0 col4\" >n_lessons_started</th>\n",
       "      <th id=\"T_65000_level0_col5\" class=\"col_heading level0 col5\" >n_lessons_completed</th>\n",
       "      <th id=\"T_65000_level0_col6\" class=\"col_heading level0 col6\" >longest_streak</th>\n",
       "      <th id=\"T_65000_level0_col7\" class=\"col_heading level0 col7\" >n_days_on_platform</th>\n",
       "    </tr>\n",
       "    <tr>\n",
       "      <th class=\"index_name level0\" >purchased_subscription</th>\n",
       "      <th class=\"blank col0\" >&nbsp;</th>\n",
       "      <th class=\"blank col1\" >&nbsp;</th>\n",
       "      <th class=\"blank col2\" >&nbsp;</th>\n",
       "      <th class=\"blank col3\" >&nbsp;</th>\n",
       "      <th class=\"blank col4\" >&nbsp;</th>\n",
       "      <th class=\"blank col5\" >&nbsp;</th>\n",
       "      <th class=\"blank col6\" >&nbsp;</th>\n",
       "      <th class=\"blank col7\" >&nbsp;</th>\n",
       "    </tr>\n",
       "  </thead>\n",
       "  <tbody>\n",
       "    <tr>\n",
       "      <th id=\"T_65000_level0_row0\" class=\"row_heading level0 row0\" >False</th>\n",
       "      <td id=\"T_65000_row0_col0\" class=\"data row0 col0\" >20.000000</td>\n",
       "      <td id=\"T_65000_row0_col1\" class=\"data row0 col1\" >21.000000</td>\n",
       "      <td id=\"T_65000_row0_col2\" class=\"data row0 col2\" >61.000000</td>\n",
       "      <td id=\"T_65000_row0_col3\" class=\"data row0 col3\" >28.000000</td>\n",
       "      <td id=\"T_65000_row0_col4\" class=\"data row0 col4\" >107.000000</td>\n",
       "      <td id=\"T_65000_row0_col5\" class=\"data row0 col5\" >98.000000</td>\n",
       "      <td id=\"T_65000_row0_col6\" class=\"data row0 col6\" >7.000000</td>\n",
       "      <td id=\"T_65000_row0_col7\" class=\"data row0 col7\" >375.000000</td>\n",
       "    </tr>\n",
       "    <tr>\n",
       "      <th id=\"T_65000_level0_row1\" class=\"row_heading level0 row1\" >True</th>\n",
       "      <td id=\"T_65000_row1_col0\" class=\"data row1 col0\" >20.000000</td>\n",
       "      <td id=\"T_65000_row1_col1\" class=\"data row1 col1\" >33.000000</td>\n",
       "      <td id=\"T_65000_row1_col2\" class=\"data row1 col2\" >134.000000</td>\n",
       "      <td id=\"T_65000_row1_col3\" class=\"data row1 col3\" >82.000000</td>\n",
       "      <td id=\"T_65000_row1_col4\" class=\"data row1 col4\" >294.000000</td>\n",
       "      <td id=\"T_65000_row1_col5\" class=\"data row1 col5\" >276.000000</td>\n",
       "      <td id=\"T_65000_row1_col6\" class=\"data row1 col6\" >71.000000</td>\n",
       "      <td id=\"T_65000_row1_col7\" class=\"data row1 col7\" >496.000000</td>\n",
       "    </tr>\n",
       "  </tbody>\n",
       "</table>\n"
      ],
      "text/plain": [
       "<pandas.io.formats.style.Styler at 0x1277819a0>"
      ]
     },
     "execution_count": 123,
     "metadata": {},
     "output_type": "execute_result"
    }
   ],
   "source": [
    "# Get engagement metrics of subscribers\n",
    "merged_data.groupby('purchased_subscription')[['daily_goal', 'highest_course_progress','highest_crown_count', 'n_active_days', 'n_lessons_started', 'n_lessons_completed','longest_streak','n_days_on_platform'   ]].median().style.background_gradient(cmap='RdYlGn')"
   ]
  },
  {
   "cell_type": "markdown",
   "metadata": {},
   "source": [
    "Yeah no big surprise! How about subscription by country?"
   ]
  },
  {
   "cell_type": "code",
   "execution_count": 124,
   "metadata": {},
   "outputs": [
    {
     "data": {
      "text/html": [
       "<style type=\"text/css\">\n",
       "#T_fc6eb_row0_col0 {\n",
       "  background-color: #af0926;\n",
       "  color: #f1f1f1;\n",
       "}\n",
       "#T_fc6eb_row1_col0 {\n",
       "  background-color: #a50026;\n",
       "  color: #f1f1f1;\n",
       "}\n",
       "#T_fc6eb_row2_col0 {\n",
       "  background-color: #b50f26;\n",
       "  color: #f1f1f1;\n",
       "}\n",
       "#T_fc6eb_row3_col0 {\n",
       "  background-color: #128a49;\n",
       "  color: #f1f1f1;\n",
       "}\n",
       "#T_fc6eb_row4_col0, #T_fc6eb_row9_col0 {\n",
       "  background-color: #b71126;\n",
       "  color: #f1f1f1;\n",
       "}\n",
       "#T_fc6eb_row5_col0 {\n",
       "  background-color: #07753e;\n",
       "  color: #f1f1f1;\n",
       "}\n",
       "#T_fc6eb_row6_col0 {\n",
       "  background-color: #54b45f;\n",
       "  color: #f1f1f1;\n",
       "}\n",
       "#T_fc6eb_row7_col0 {\n",
       "  background-color: #006837;\n",
       "  color: #f1f1f1;\n",
       "}\n",
       "#T_fc6eb_row8_col0 {\n",
       "  background-color: #ad0826;\n",
       "  color: #f1f1f1;\n",
       "}\n",
       "</style>\n",
       "<table id=\"T_fc6eb\">\n",
       "  <thead>\n",
       "    <tr>\n",
       "      <th class=\"blank level0\" >&nbsp;</th>\n",
       "      <th id=\"T_fc6eb_level0_col0\" class=\"col_heading level0 col0\" >purchased_subscription</th>\n",
       "    </tr>\n",
       "    <tr>\n",
       "      <th class=\"index_name level0\" >country</th>\n",
       "      <th class=\"blank col0\" >&nbsp;</th>\n",
       "    </tr>\n",
       "  </thead>\n",
       "  <tbody>\n",
       "    <tr>\n",
       "      <th id=\"T_fc6eb_level0_row0\" class=\"row_heading level0 row0\" >BR</th>\n",
       "      <td id=\"T_fc6eb_row0_col0\" class=\"data row0 col0\" >0.028571</td>\n",
       "    </tr>\n",
       "    <tr>\n",
       "      <th id=\"T_fc6eb_level0_row1\" class=\"row_heading level0 row1\" >CO</th>\n",
       "      <td id=\"T_fc6eb_row1_col0\" class=\"data row1 col0\" >0.017544</td>\n",
       "    </tr>\n",
       "    <tr>\n",
       "      <th id=\"T_fc6eb_level0_row2\" class=\"row_heading level0 row2\" >DE</th>\n",
       "      <td id=\"T_fc6eb_row2_col0\" class=\"data row2 col0\" >0.036458</td>\n",
       "    </tr>\n",
       "    <tr>\n",
       "      <th id=\"T_fc6eb_level0_row3\" class=\"row_heading level0 row3\" >FR</th>\n",
       "      <td id=\"T_fc6eb_row3_col0\" class=\"data row3 col0\" >0.540827</td>\n",
       "    </tr>\n",
       "    <tr>\n",
       "      <th id=\"T_fc6eb_level0_row4\" class=\"row_heading level0 row4\" >GB</th>\n",
       "      <td id=\"T_fc6eb_row4_col0\" class=\"data row4 col0\" >0.039474</td>\n",
       "    </tr>\n",
       "    <tr>\n",
       "      <th id=\"T_fc6eb_level0_row5\" class=\"row_heading level0 row5\" >JP</th>\n",
       "      <td id=\"T_fc6eb_row5_col0\" class=\"data row5 col0\" >0.565269</td>\n",
       "    </tr>\n",
       "    <tr>\n",
       "      <th id=\"T_fc6eb_level0_row6\" class=\"row_heading level0 row6\" >MX</th>\n",
       "      <td id=\"T_fc6eb_row6_col0\" class=\"data row6 col0\" >0.480334</td>\n",
       "    </tr>\n",
       "    <tr>\n",
       "      <th id=\"T_fc6eb_level0_row7\" class=\"row_heading level0 row7\" >RU</th>\n",
       "      <td id=\"T_fc6eb_row7_col0\" class=\"data row7 col0\" >0.580997</td>\n",
       "    </tr>\n",
       "    <tr>\n",
       "      <th id=\"T_fc6eb_level0_row8\" class=\"row_heading level0 row8\" >TW</th>\n",
       "      <td id=\"T_fc6eb_row8_col0\" class=\"data row8 col0\" >0.027237</td>\n",
       "    </tr>\n",
       "    <tr>\n",
       "      <th id=\"T_fc6eb_level0_row9\" class=\"row_heading level0 row9\" >US</th>\n",
       "      <td id=\"T_fc6eb_row9_col0\" class=\"data row9 col0\" >0.037736</td>\n",
       "    </tr>\n",
       "  </tbody>\n",
       "</table>\n"
      ],
      "text/plain": [
       "<pandas.io.formats.style.Styler at 0x13082e040>"
      ]
     },
     "execution_count": 124,
     "metadata": {},
     "output_type": "execute_result"
    }
   ],
   "source": [
    "# Percentage of subscription by country\n",
    "\n",
    "subscription_count_by_country = merged_data.groupby('country')[['purchased_subscription']].sum() / merged_data.groupby('country')[['purchased_subscription']].count()\n",
    "subscription_count_by_country.style.background_gradient(cmap='RdYlGn') "
   ]
  },
  {
   "cell_type": "markdown",
   "metadata": {},
   "source": [
    "Countries, including France, Japan, Mexico and Russia have impressive subscription rate (48-58%)"
   ]
  },
  {
   "cell_type": "markdown",
   "metadata": {},
   "source": [
    "4. Let's see some commitment behind!"
   ]
  },
  {
   "cell_type": "code",
   "execution_count": 125,
   "metadata": {},
   "outputs": [
    {
     "data": {
      "image/png": "[encoded data removed]",
      "text/plain": [
       "<Figure size 640x480 with 1 Axes>"
      ]
     },
     "metadata": {},
     "output_type": "display_data"
    }
   ],
   "source": [
    "commitment_by_age = (merged_data.groupby('age')['primary_language_commitment']\n",
    "                            .value_counts(normalize=True)\n",
    "                            .unstack('primary_language_commitment')\n",
    "                            .plot.bar(stacked=True))\n",
    "\n",
    "    # Add title and labels\n",
    "plt.title('Commitment by Age')\n",
    "plt.xlabel('Segment')\n",
    "plt.ylabel('%')\n",
    "plt.legend(fontsize='xx-small')\n",
    "plt.xticks(rotation=0)\n",
    "plt.show()"
   ]
  },
  {
   "cell_type": "markdown",
   "metadata": {},
   "source": [
    "Adult/Senior users seem have a stronger commitment than younger ones."
   ]
  },
  {
   "cell_type": "markdown",
   "metadata": {},
   "source": [
    "Summary for Section 2: Exploratory Data Analysis\n",
    "- Data quality: quite good! The reliability of the survey is good! I already handled missing values for important columns: age and income\n",
    "- Key insights: \n",
    "    - Duolingo attracts more adult/senior people! They subscribe more and have better engagement. \n",
    "    - Countries, including France, Japan, Mexico and Russia have impressive subscription rate (48-58%)"
   ]
  },
  {
   "cell_type": "markdown",
   "metadata": {},
   "source": [
    "## Section 3: Feature Engineering ##"
   ]
  },
  {
   "cell_type": "markdown",
   "metadata": {},
   "source": [
    "I will use the following columns from survey data for the clustering model: age, annual_income, country, duolingo_platform, duolingo_subscriber, duolingo_usage, employment_status, gender, primary_language_commitment,primary_language_review, primary_language_motivation, primary_language_proficiency, student "
   ]
  },
  {
   "cell_type": "code",
   "execution_count": 126,
   "metadata": {},
   "outputs": [
    {
     "data": {
      "text/plain": [
       "(5323, 13)"
      ]
     },
     "execution_count": 126,
     "metadata": {},
     "output_type": "execute_result"
    }
   ],
   "source": [
    "# Get the list of columns for modeling\n",
    "columns = ['age', 'annual_income', 'country', 'duolingo_platform', 'duolingo_subscriber', 'duolingo_usage', 'employment_status', 'gender', 'primary_language_commitment', 'primary_language_review', 'primary_language_motivation', 'primary_language_proficiency', 'student']\n",
    "\n",
    "# Remove rows with null values\n",
    "merged_data = merged_data.dropna(subset=columns)\n",
    "\n",
    "# Get the data for the model\n",
    "data_model = merged_data[columns]\n",
    "data_model.shape"
   ]
  },
  {
   "cell_type": "markdown",
   "metadata": {},
   "source": [
    "For age and annual_income, they are ordinal data so I will encode them by number from 0 to 1, maintaining the original order of the age groups and avoiding the need for additional data transformation steps later in the analysis process."
   ]
  },
  {
   "cell_type": "code",
   "execution_count": 127,
   "metadata": {},
   "outputs": [
    {
     "name": "stderr",
     "output_type": "stream",
     "text": [
      "/var/folders/kt/jx5tc_t52y10ksv96cpk556m0000gn/T/ipykernel_46513/2609970165.py:2: SettingWithCopyWarning: \n",
      "A value is trying to be set on a copy of a slice from a DataFrame.\n",
      "Try using .loc[row_indexer,col_indexer] = value instead\n",
      "\n",
      "See the caveats in the documentation: https://pandas.pydata.org/pandas-docs/stable/user_guide/indexing.html#returning-a-view-versus-a-copy\n",
      "  data_model['age'] = data_model['age'].replace({\n",
      "/var/folders/kt/jx5tc_t52y10ksv96cpk556m0000gn/T/ipykernel_46513/2609970165.py:11: SettingWithCopyWarning: \n",
      "A value is trying to be set on a copy of a slice from a DataFrame.\n",
      "Try using .loc[row_indexer,col_indexer] = value instead\n",
      "\n",
      "See the caveats in the documentation: https://pandas.pydata.org/pandas-docs/stable/user_guide/indexing.html#returning-a-view-versus-a-copy\n",
      "  data_model['annual_income'] = data_model['annual_income'].replace({\n"
     ]
    }
   ],
   "source": [
    "# Encode age\n",
    "data_model['age'] = data_model['age'].replace({\n",
    "    'Under 18': 0,\n",
    "    '18-34': 0.25,\n",
    "    '35 - 54': 0.5,\n",
    "    '55 - 74': 0.75,\n",
    "    '75 or older': 1\n",
    "})\n",
    "\n",
    "# Encode annual income\n",
    "data_model['annual_income'] = data_model['annual_income'].replace({\n",
    "    '$0 - $10,000': 0,\n",
    "    '$26,000 - $75,000': 0.25,\n",
    "    '$11,000 - $25,000': 0.5,\n",
    "    '$76,000 - $150,000': 0.75,\n",
    "    '$151,000 or more': 1\n",
    "})"
   ]
  },
  {
   "cell_type": "markdown",
   "metadata": {},
   "source": [
    "For other columns, which are categorical data, I used one-hot encoding for those columns."
   ]
  },
  {
   "cell_type": "code",
   "execution_count": 128,
   "metadata": {},
   "outputs": [
    {
     "data": {
      "text/html": [
       "<div>\n",
       "<style scoped>\n",
       "    .dataframe tbody tr th:only-of-type {\n",
       "        vertical-align: middle;\n",
       "    }\n",
       "\n",
       "    .dataframe tbody tr th {\n",
       "        vertical-align: top;\n",
       "    }\n",
       "\n",
       "    .dataframe thead th {\n",
       "        text-align: right;\n",
       "    }\n",
       "</style>\n",
       "<table border=\"1\" class=\"dataframe\">\n",
       "  <thead>\n",
       "    <tr style=\"text-align: right;\">\n",
       "      <th></th>\n",
       "      <th>age</th>\n",
       "      <th>annual_income</th>\n",
       "      <th>country</th>\n",
       "      <th>duolingo_platform</th>\n",
       "      <th>duolingo_subscriber</th>\n",
       "      <th>duolingo_usage</th>\n",
       "      <th>employment_status</th>\n",
       "      <th>gender</th>\n",
       "      <th>primary_language_commitment</th>\n",
       "      <th>primary_language_review</th>\n",
       "      <th>primary_language_motivation</th>\n",
       "      <th>primary_language_proficiency</th>\n",
       "      <th>student</th>\n",
       "    </tr>\n",
       "  </thead>\n",
       "  <tbody>\n",
       "    <tr>\n",
       "      <th>0</th>\n",
       "      <td>0.25</td>\n",
       "      <td>0.25</td>\n",
       "      <td>JP</td>\n",
       "      <td>Android phone or tablet</td>\n",
       "      <td>No, I have never paid for Duolingo Plus</td>\n",
       "      <td>Daily</td>\n",
       "      <td>Employed full-time</td>\n",
       "      <td>Male</td>\n",
       "      <td>I'm very committed to learning this language.</td>\n",
       "      <td>I am using Duolingo to review a language I've ...</td>\n",
       "      <td>I like to learn new languages</td>\n",
       "      <td>Advanced</td>\n",
       "      <td>Not currently a student</td>\n",
       "    </tr>\n",
       "    <tr>\n",
       "      <th>1</th>\n",
       "      <td>0.25</td>\n",
       "      <td>0.25</td>\n",
       "      <td>JP</td>\n",
       "      <td>iPhone or iPad</td>\n",
       "      <td>No, I have never paid for Duolingo Plus</td>\n",
       "      <td>Weekly</td>\n",
       "      <td>Employed full-time</td>\n",
       "      <td>Male</td>\n",
       "      <td>I'm slightly committed to learning this language.</td>\n",
       "      <td>I am using Duolingo to review a language I've ...</td>\n",
       "      <td>I need to be able to speak the local language ...</td>\n",
       "      <td>Intermediate</td>\n",
       "      <td>Not currently a student</td>\n",
       "    </tr>\n",
       "    <tr>\n",
       "      <th>2</th>\n",
       "      <td>0.25</td>\n",
       "      <td>0.75</td>\n",
       "      <td>JP</td>\n",
       "      <td>iPhone or iPad</td>\n",
       "      <td>Yes, I currently pay for Duolingo Plus</td>\n",
       "      <td>Daily</td>\n",
       "      <td>Employed full-time</td>\n",
       "      <td>Male</td>\n",
       "      <td>I'm moderately committed to learning this lang...</td>\n",
       "      <td>I am using Duolingo to review a language I've ...</td>\n",
       "      <td>I want to connect with my heritage or identity</td>\n",
       "      <td>Beginner</td>\n",
       "      <td>Not currently a student</td>\n",
       "    </tr>\n",
       "    <tr>\n",
       "      <th>3</th>\n",
       "      <td>0.25</td>\n",
       "      <td>0.75</td>\n",
       "      <td>JP</td>\n",
       "      <td>iPhone or iPad</td>\n",
       "      <td>No, but I have previously paid for Duolingo Plus</td>\n",
       "      <td>Daily</td>\n",
       "      <td>Employed full-time</td>\n",
       "      <td>Female</td>\n",
       "      <td>I'm very committed to learning this language.</td>\n",
       "      <td>I am using Duolingo to learn this language for...</td>\n",
       "      <td>I am preparing for a trip</td>\n",
       "      <td>Intermediate</td>\n",
       "      <td>Not currently a student</td>\n",
       "    </tr>\n",
       "    <tr>\n",
       "      <th>4</th>\n",
       "      <td>0.50</td>\n",
       "      <td>0.75</td>\n",
       "      <td>JP</td>\n",
       "      <td>Android phone or tablet</td>\n",
       "      <td>Yes, I currently pay for Duolingo Plus</td>\n",
       "      <td>Daily</td>\n",
       "      <td>Employed full-time</td>\n",
       "      <td>Male</td>\n",
       "      <td>I'm very committed to learning this language.</td>\n",
       "      <td>I am using Duolingo to learn this language for...</td>\n",
       "      <td>I want to connect with my heritage or identity</td>\n",
       "      <td>Intermediate</td>\n",
       "      <td>Not currently a student</td>\n",
       "    </tr>\n",
       "  </tbody>\n",
       "</table>\n",
       "</div>"
      ],
      "text/plain": [
       "    age  annual_income country        duolingo_platform  \\\n",
       "0  0.25           0.25      JP  Android phone or tablet   \n",
       "1  0.25           0.25      JP           iPhone or iPad   \n",
       "2  0.25           0.75      JP           iPhone or iPad   \n",
       "3  0.25           0.75      JP           iPhone or iPad   \n",
       "4  0.50           0.75      JP  Android phone or tablet   \n",
       "\n",
       "                                duolingo_subscriber duolingo_usage  \\\n",
       "0           No, I have never paid for Duolingo Plus          Daily   \n",
       "1           No, I have never paid for Duolingo Plus         Weekly   \n",
       "2            Yes, I currently pay for Duolingo Plus          Daily   \n",
       "3  No, but I have previously paid for Duolingo Plus          Daily   \n",
       "4            Yes, I currently pay for Duolingo Plus          Daily   \n",
       "\n",
       "    employment_status  gender  \\\n",
       "0  Employed full-time    Male   \n",
       "1  Employed full-time    Male   \n",
       "2  Employed full-time    Male   \n",
       "3  Employed full-time  Female   \n",
       "4  Employed full-time    Male   \n",
       "\n",
       "                         primary_language_commitment  \\\n",
       "0      I'm very committed to learning this language.   \n",
       "1  I'm slightly committed to learning this language.   \n",
       "2  I'm moderately committed to learning this lang...   \n",
       "3      I'm very committed to learning this language.   \n",
       "4      I'm very committed to learning this language.   \n",
       "\n",
       "                             primary_language_review  \\\n",
       "0  I am using Duolingo to review a language I've ...   \n",
       "1  I am using Duolingo to review a language I've ...   \n",
       "2  I am using Duolingo to review a language I've ...   \n",
       "3  I am using Duolingo to learn this language for...   \n",
       "4  I am using Duolingo to learn this language for...   \n",
       "\n",
       "                         primary_language_motivation  \\\n",
       "0                      I like to learn new languages   \n",
       "1  I need to be able to speak the local language ...   \n",
       "2     I want to connect with my heritage or identity   \n",
       "3                          I am preparing for a trip   \n",
       "4     I want to connect with my heritage or identity   \n",
       "\n",
       "  primary_language_proficiency                  student  \n",
       "0                     Advanced  Not currently a student  \n",
       "1                 Intermediate  Not currently a student  \n",
       "2                     Beginner  Not currently a student  \n",
       "3                 Intermediate  Not currently a student  \n",
       "4                 Intermediate  Not currently a student  "
      ]
     },
     "execution_count": 128,
     "metadata": {},
     "output_type": "execute_result"
    }
   ],
   "source": [
    "data_model.head()"
   ]
  },
  {
   "cell_type": "code",
   "execution_count": 129,
   "metadata": {},
   "outputs": [],
   "source": [
    "# Columns for one-hot encoding\n",
    "columns_list = ['country', 'duolingo_platform', 'duolingo_subscriber', 'duolingo_usage', 'employment_status', 'gender', 'primary_language_commitment', 'primary_language_review', 'primary_language_motivation', 'primary_language_proficiency', 'student']\n",
    "\n",
    "# Conduct one-hot encoding\n",
    "data_model = pd.get_dummies(data_model, columns=columns_list, dtype=int, drop_first=True)"
   ]
  },
  {
   "cell_type": "markdown",
   "metadata": {},
   "source": [
    "## Section 4: Clustering Models & User Segment Insights ##"
   ]
  },
  {
   "cell_type": "markdown",
   "metadata": {},
   "source": [
    "### K-Means Clustering ###"
   ]
  },
  {
   "cell_type": "markdown",
   "metadata": {},
   "source": [
    "Perform elbow method to choose the optimal k"
   ]
  },
  {
   "cell_type": "code",
   "execution_count": 130,
   "metadata": {},
   "outputs": [
    {
     "name": "stderr",
     "output_type": "stream",
     "text": [
      "/Users/tanphan/Library/Python/3.9/lib/python/site-packages/sklearn/cluster/_kmeans.py:1416: FutureWarning: The default value of `n_init` will change from 10 to 'auto' in 1.4. Set the value of `n_init` explicitly to suppress the warning\n",
      "  super()._check_params_vs_input(X, default_n_init=10)\n"
     ]
    },
    {
     "name": "stderr",
     "output_type": "stream",
     "text": [
      "/Users/tanphan/Library/Python/3.9/lib/python/site-packages/sklearn/cluster/_kmeans.py:1416: FutureWarning: The default value of `n_init` will change from 10 to 'auto' in 1.4. Set the value of `n_init` explicitly to suppress the warning\n",
      "  super()._check_params_vs_input(X, default_n_init=10)\n",
      "/Users/tanphan/Library/Python/3.9/lib/python/site-packages/sklearn/cluster/_kmeans.py:1416: FutureWarning: The default value of `n_init` will change from 10 to 'auto' in 1.4. Set the value of `n_init` explicitly to suppress the warning\n",
      "  super()._check_params_vs_input(X, default_n_init=10)\n",
      "/Users/tanphan/Library/Python/3.9/lib/python/site-packages/sklearn/cluster/_kmeans.py:1416: FutureWarning: The default value of `n_init` will change from 10 to 'auto' in 1.4. Set the value of `n_init` explicitly to suppress the warning\n",
      "  super()._check_params_vs_input(X, default_n_init=10)\n",
      "/Users/tanphan/Library/Python/3.9/lib/python/site-packages/sklearn/cluster/_kmeans.py:1416: FutureWarning: The default value of `n_init` will change from 10 to 'auto' in 1.4. Set the value of `n_init` explicitly to suppress the warning\n",
      "  super()._check_params_vs_input(X, default_n_init=10)\n",
      "/Users/tanphan/Library/Python/3.9/lib/python/site-packages/sklearn/cluster/_kmeans.py:1416: FutureWarning: The default value of `n_init` will change from 10 to 'auto' in 1.4. Set the value of `n_init` explicitly to suppress the warning\n",
      "  super()._check_params_vs_input(X, default_n_init=10)\n",
      "/Users/tanphan/Library/Python/3.9/lib/python/site-packages/sklearn/cluster/_kmeans.py:1416: FutureWarning: The default value of `n_init` will change from 10 to 'auto' in 1.4. Set the value of `n_init` explicitly to suppress the warning\n",
      "  super()._check_params_vs_input(X, default_n_init=10)\n",
      "/Users/tanphan/Library/Python/3.9/lib/python/site-packages/sklearn/cluster/_kmeans.py:1416: FutureWarning: The default value of `n_init` will change from 10 to 'auto' in 1.4. Set the value of `n_init` explicitly to suppress the warning\n",
      "  super()._check_params_vs_input(X, default_n_init=10)\n",
      "/Users/tanphan/Library/Python/3.9/lib/python/site-packages/sklearn/cluster/_kmeans.py:1416: FutureWarning: The default value of `n_init` will change from 10 to 'auto' in 1.4. Set the value of `n_init` explicitly to suppress the warning\n",
      "  super()._check_params_vs_input(X, default_n_init=10)\n",
      "/Users/tanphan/Library/Python/3.9/lib/python/site-packages/sklearn/cluster/_kmeans.py:1416: FutureWarning: The default value of `n_init` will change from 10 to 'auto' in 1.4. Set the value of `n_init` explicitly to suppress the warning\n",
      "  super()._check_params_vs_input(X, default_n_init=10)\n"
     ]
    },
    {
     "data": {
      "image/png": "[encoded data removed]",
      "text/plain": [
       "<Figure size 640x480 with 1 Axes>"
      ]
     },
     "metadata": {},
     "output_type": "display_data"
    }
   ],
   "source": [
    "# Perform PCA for dimensionality reduction\n",
    "pca = PCA(n_components=2)\n",
    "features_pca = pca.fit_transform(data_model)\n",
    "\n",
    "# Calculate distortion for a range of cluster numbers\n",
    "distortions = []\n",
    "for i in range(1, 11):\n",
    "    kmeans = KMeans(n_clusters=i, random_state=42)\n",
    "    kmeans.fit(features_pca)\n",
    "    distortions.append(kmeans.inertia_)\n",
    "\n",
    "# Plot the elbow curve\n",
    "plt.plot(range(1, 11), distortions, marker='o')\n",
    "plt.xlabel('Number of clusters')\n",
    "plt.ylabel('Distortion')\n",
    "plt.title('Elbow Method')\n",
    "plt.show()\n"
   ]
  },
  {
   "cell_type": "markdown",
   "metadata": {},
   "source": [
    "From the elbow method, it's clear that k=4 is the optimal point! We use this k as number of segments for K-means clustering, as well as for Hierarchical Clustering and Density-based Clustering."
   ]
  },
  {
   "cell_type": "code",
   "execution_count": 131,
   "metadata": {},
   "outputs": [
    {
     "name": "stderr",
     "output_type": "stream",
     "text": [
      "/Users/tanphan/Library/Python/3.9/lib/python/site-packages/sklearn/cluster/_kmeans.py:1416: FutureWarning: The default value of `n_init` will change from 10 to 'auto' in 1.4. Set the value of `n_init` explicitly to suppress the warning\n",
      "  super()._check_params_vs_input(X, default_n_init=10)\n"
     ]
    },
    {
     "data": {
      "image/png": "[encoded data removed]",
      "text/plain": [
       "<Figure size 640x480 with 2 Axes>"
      ]
     },
     "metadata": {},
     "output_type": "display_data"
    }
   ],
   "source": [
    "# Initialize and fit K-means clustering model with k=4 clusters\n",
    "kmeans = KMeans(n_clusters=4, random_state=42)\n",
    "kmeans.fit(features_pca)\n",
    "\n",
    "# Get cluster labels\n",
    "cluster_labels = kmeans.labels_\n",
    "\n",
    "# Visualize the clusters\n",
    "plt.scatter(features_pca[:, 0], features_pca[:, 1], c=cluster_labels, cmap='viridis')\n",
    "plt.xlabel('Principal Component 1')\n",
    "plt.ylabel('Principal Component 2')\n",
    "plt.title('K-means Clustering with k=4')\n",
    "plt.colorbar(label='Cluster')\n",
    "plt.show()\n"
   ]
  },
  {
   "cell_type": "markdown",
   "metadata": {},
   "source": [
    "Clusters are separated quite well! Let's discover key insights!"
   ]
  },
  {
   "cell_type": "code",
   "execution_count": 132,
   "metadata": {},
   "outputs": [],
   "source": [
    "# Add cluster IDs to the dataset\n",
    "merged_data['cluster_id_kmeans'] = cluster_labels"
   ]
  },
  {
   "cell_type": "markdown",
   "metadata": {},
   "source": [
    "I will build a function segment_visualization, used to visualize insights for all 3 clustering models."
   ]
  },
  {
   "cell_type": "code",
   "execution_count": 133,
   "metadata": {},
   "outputs": [],
   "source": [
    "def segment_visualization(column):\n",
    "    \n",
    "    # 1. Visualize percentage of users by segment\n",
    "    ## Get the percentage of users by segment\n",
    "    user_percentages = merged_data[column].value_counts() / len(merged_data) * 100\n",
    "\n",
    "    ## Plot the horizontal bar chart\n",
    "    plt.figure(figsize=(8, 6))\n",
    "    user_percentages.plot(kind='barh', color='green')\n",
    "    plt.xlabel('Percentage of Users (%)')\n",
    "    plt.ylabel('Segments')\n",
    "    plt.title('Percentage of Users by Segment')\n",
    "    plt.legend(fontsize='small')\n",
    "    plt.gca().invert_yaxis()  # Invert y-axis to have Segment 1 at the top\n",
    "    plt.show()\n",
    "\n",
    "    #2. Visualize subscription status by segment\n",
    "    subscription_by_segment = (merged_data.groupby(column)['purchased_subscription']\n",
    "                            .value_counts(normalize=True)\n",
    "                            .unstack('purchased_subscription')\n",
    "                            .plot.bar(stacked=True))\n",
    "\n",
    "    # Add title and labels\n",
    "    plt.title('Subscription Percentage by Segment')\n",
    "    plt.xlabel('Segment')\n",
    "    plt.ylabel('x 100%')\n",
    "    plt.legend(fontsize='small')\n",
    "    plt.xticks(rotation=0)\n",
    "    plt.show()\n",
    "\n",
    "    #3. Visualize the language proficiency\n",
    "    proficiency_by_segment = (merged_data.groupby(column)['primary_language_proficiency']\n",
    "                            .value_counts(normalize=True)\n",
    "                            .unstack('primary_language_proficiency')\n",
    "                            .plot.bar(stacked=True))\n",
    "\n",
    "    # Add title and labels\n",
    "    plt.title('Proficiency Percentage by Segment')\n",
    "    plt.xlabel('Segment')\n",
    "    plt.ylabel('x 100%')\n",
    "    plt.legend(fontsize='small')\n",
    "    plt.xticks(rotation=0)\n",
    "    plt.show()\n",
    "\n",
    "    #4. Visualize engagement metrics\n",
    "    # Get engagement metrics by age\n",
    "    engagement_by_segment = merged_data.groupby(column)[['daily_goal', 'highest_course_progress','highest_crown_count', 'n_active_days', 'n_lessons_started', 'n_lessons_completed','longest_streak','n_days_on_platform']].median().style.background_gradient(cmap='RdYlGn')\n",
    "    display(engagement_by_segment)\n",
    "\n",
    "    #5. Visualize user commitment \n",
    "    commitment_by_segment = (merged_data.groupby(column)['primary_language_commitment']\n",
    "                            .value_counts(normalize=True)\n",
    "                            .unstack('primary_language_commitment')\n",
    "                            .plot.bar(stacked=True))\n",
    "\n",
    "    # Add title and labels\n",
    "    plt.title('Commitment by Segment')\n",
    "    plt.xlabel('Segment')\n",
    "    plt.ylabel('x 100%')\n",
    "    plt.legend(fontsize='xx-small')\n",
    "    plt.xticks(rotation=0)\n",
    "    plt.show()\n",
    "\n",
    "    #5. Visualize language review\n",
    "    language_review_by_segment = (merged_data.groupby(column)['primary_language_review']\n",
    "                            .value_counts(normalize=True)\n",
    "                            .unstack('primary_language_review')\n",
    "                            .plot.bar(stacked=True))\n",
    "\n",
    "    # Add title and labels\n",
    "    plt.title('Language Review by Segment')\n",
    "    plt.xlabel('Segment')\n",
    "    plt.ylabel('x 100%')\n",
    "    plt.legend(fontsize='xx-small', loc='upper right')\n",
    "    plt.xticks(rotation=0)\n",
    "    plt.show()"
   ]
  },
  {
   "cell_type": "markdown",
   "metadata": {},
   "source": [
    "Let's visualize for K-means Clustering's segments:"
   ]
  },
  {
   "cell_type": "code",
   "execution_count": 134,
   "metadata": {},
   "outputs": [
    {
     "data": {
      "image/png": "[encoded data removed]",
      "text/plain": [
       "<Figure size 800x600 with 1 Axes>"
      ]
     },
     "metadata": {},
     "output_type": "display_data"
    },
    {
     "data": {
      "image/png": "[encoded data removed]",
      "text/plain": [
       "<Figure size 640x480 with 1 Axes>"
      ]
     },
     "metadata": {},
     "output_type": "display_data"
    },
    {
     "data": {
      "image/png": "[encoded data removed]",
      "text/plain": [
       "<Figure size 640x480 with 1 Axes>"
      ]
     },
     "metadata": {},
     "output_type": "display_data"
    },
    {
     "data": {
      "text/html": [
       "<style type=\"text/css\">\n",
       "#T_35003_row0_col0, #T_35003_row0_col1, #T_35003_row0_col2, #T_35003_row0_col3, #T_35003_row0_col4, #T_35003_row0_col5, #T_35003_row0_col6, #T_35003_row0_col7, #T_35003_row1_col0, #T_35003_row3_col0 {\n",
       "  background-color: #a50026;\n",
       "  color: #f1f1f1;\n",
       "}\n",
       "#T_35003_row1_col1 {\n",
       "  background-color: #45ad5b;\n",
       "  color: #f1f1f1;\n",
       "}\n",
       "#T_35003_row1_col2 {\n",
       "  background-color: #fee28f;\n",
       "  color: #000000;\n",
       "}\n",
       "#T_35003_row1_col3, #T_35003_row1_col5 {\n",
       "  background-color: #e54e35;\n",
       "  color: #f1f1f1;\n",
       "}\n",
       "#T_35003_row1_col4 {\n",
       "  background-color: #e44c34;\n",
       "  color: #f1f1f1;\n",
       "}\n",
       "#T_35003_row1_col6 {\n",
       "  background-color: #b91326;\n",
       "  color: #f1f1f1;\n",
       "}\n",
       "#T_35003_row1_col7 {\n",
       "  background-color: #75c465;\n",
       "  color: #000000;\n",
       "}\n",
       "#T_35003_row2_col0, #T_35003_row2_col1, #T_35003_row2_col2, #T_35003_row2_col3, #T_35003_row2_col4, #T_35003_row2_col5, #T_35003_row2_col6, #T_35003_row2_col7 {\n",
       "  background-color: #006837;\n",
       "  color: #f1f1f1;\n",
       "}\n",
       "#T_35003_row3_col1 {\n",
       "  background-color: #f5fbb2;\n",
       "  color: #000000;\n",
       "}\n",
       "#T_35003_row3_col2 {\n",
       "  background-color: #fecc7b;\n",
       "  color: #000000;\n",
       "}\n",
       "#T_35003_row3_col3 {\n",
       "  background-color: #4bb05c;\n",
       "  color: #f1f1f1;\n",
       "}\n",
       "#T_35003_row3_col4 {\n",
       "  background-color: #78c565;\n",
       "  color: #000000;\n",
       "}\n",
       "#T_35003_row3_col5 {\n",
       "  background-color: #7dc765;\n",
       "  color: #000000;\n",
       "}\n",
       "#T_35003_row3_col6 {\n",
       "  background-color: #feeb9d;\n",
       "  color: #000000;\n",
       "}\n",
       "#T_35003_row3_col7 {\n",
       "  background-color: #d93429;\n",
       "  color: #f1f1f1;\n",
       "}\n",
       "</style>\n",
       "<table id=\"T_35003\">\n",
       "  <thead>\n",
       "    <tr>\n",
       "      <th class=\"blank level0\" >&nbsp;</th>\n",
       "      <th id=\"T_35003_level0_col0\" class=\"col_heading level0 col0\" >daily_goal</th>\n",
       "      <th id=\"T_35003_level0_col1\" class=\"col_heading level0 col1\" >highest_course_progress</th>\n",
       "      <th id=\"T_35003_level0_col2\" class=\"col_heading level0 col2\" >highest_crown_count</th>\n",
       "      <th id=\"T_35003_level0_col3\" class=\"col_heading level0 col3\" >n_active_days</th>\n",
       "      <th id=\"T_35003_level0_col4\" class=\"col_heading level0 col4\" >n_lessons_started</th>\n",
       "      <th id=\"T_35003_level0_col5\" class=\"col_heading level0 col5\" >n_lessons_completed</th>\n",
       "      <th id=\"T_35003_level0_col6\" class=\"col_heading level0 col6\" >longest_streak</th>\n",
       "      <th id=\"T_35003_level0_col7\" class=\"col_heading level0 col7\" >n_days_on_platform</th>\n",
       "    </tr>\n",
       "    <tr>\n",
       "      <th class=\"index_name level0\" >cluster_id_kmeans</th>\n",
       "      <th class=\"blank col0\" >&nbsp;</th>\n",
       "      <th class=\"blank col1\" >&nbsp;</th>\n",
       "      <th class=\"blank col2\" >&nbsp;</th>\n",
       "      <th class=\"blank col3\" >&nbsp;</th>\n",
       "      <th class=\"blank col4\" >&nbsp;</th>\n",
       "      <th class=\"blank col5\" >&nbsp;</th>\n",
       "      <th class=\"blank col6\" >&nbsp;</th>\n",
       "      <th class=\"blank col7\" >&nbsp;</th>\n",
       "    </tr>\n",
       "  </thead>\n",
       "  <tbody>\n",
       "    <tr>\n",
       "      <th id=\"T_35003_level0_row0\" class=\"row_heading level0 row0\" >0</th>\n",
       "      <td id=\"T_35003_row0_col0\" class=\"data row0 col0\" >20.000000</td>\n",
       "      <td id=\"T_35003_row0_col1\" class=\"data row0 col1\" >15.000000</td>\n",
       "      <td id=\"T_35003_row0_col2\" class=\"data row0 col2\" >47.000000</td>\n",
       "      <td id=\"T_35003_row0_col3\" class=\"data row0 col3\" >26.000000</td>\n",
       "      <td id=\"T_35003_row0_col4\" class=\"data row0 col4\" >101.000000</td>\n",
       "      <td id=\"T_35003_row0_col5\" class=\"data row0 col5\" >94.000000</td>\n",
       "      <td id=\"T_35003_row0_col6\" class=\"data row0 col6\" >7.000000</td>\n",
       "      <td id=\"T_35003_row0_col7\" class=\"data row0 col7\" >280.000000</td>\n",
       "    </tr>\n",
       "    <tr>\n",
       "      <th id=\"T_35003_level0_row1\" class=\"row_heading level0 row1\" >1</th>\n",
       "      <td id=\"T_35003_row1_col0\" class=\"data row1 col0\" >20.000000</td>\n",
       "      <td id=\"T_35003_row1_col1\" class=\"data row1 col1\" >31.000000</td>\n",
       "      <td id=\"T_35003_row1_col2\" class=\"data row1 col2\" >99.000000</td>\n",
       "      <td id=\"T_35003_row1_col3\" class=\"data row1 col3\" >35.000000</td>\n",
       "      <td id=\"T_35003_row1_col4\" class=\"data row1 col4\" >133.000000</td>\n",
       "      <td id=\"T_35003_row1_col5\" class=\"data row1 col5\" >125.000000</td>\n",
       "      <td id=\"T_35003_row1_col6\" class=\"data row1 col6\" >11.000000</td>\n",
       "      <td id=\"T_35003_row1_col7\" class=\"data row1 col7\" >569.500000</td>\n",
       "    </tr>\n",
       "    <tr>\n",
       "      <th id=\"T_35003_level0_row2\" class=\"row_heading level0 row2\" >2</th>\n",
       "      <td id=\"T_35003_row2_col0\" class=\"data row2 col0\" >30.000000</td>\n",
       "      <td id=\"T_35003_row2_col1\" class=\"data row2 col1\" >34.000000</td>\n",
       "      <td id=\"T_35003_row2_col2\" class=\"data row2 col2\" >175.000000</td>\n",
       "      <td id=\"T_35003_row2_col3\" class=\"data row2 col3\" >86.000000</td>\n",
       "      <td id=\"T_35003_row2_col4\" class=\"data row2 col4\" >319.000000</td>\n",
       "      <td id=\"T_35003_row2_col5\" class=\"data row2 col5\" >300.000000</td>\n",
       "      <td id=\"T_35003_row2_col6\" class=\"data row2 col6\" >102.500000</td>\n",
       "      <td id=\"T_35003_row2_col7\" class=\"data row2 col7\" >653.000000</td>\n",
       "    </tr>\n",
       "    <tr>\n",
       "      <th id=\"T_35003_level0_row3\" class=\"row_heading level0 row3\" >3</th>\n",
       "      <td id=\"T_35003_row3_col0\" class=\"data row3 col0\" >20.000000</td>\n",
       "      <td id=\"T_35003_row3_col1\" class=\"data row3 col1\" >25.000000</td>\n",
       "      <td id=\"T_35003_row3_col2\" class=\"data row3 col2\" >93.000000</td>\n",
       "      <td id=\"T_35003_row3_col3\" class=\"data row3 col3\" >76.000000</td>\n",
       "      <td id=\"T_35003_row3_col4\" class=\"data row3 col4\" >269.000000</td>\n",
       "      <td id=\"T_35003_row3_col5\" class=\"data row3 col5\" >251.000000</td>\n",
       "      <td id=\"T_35003_row3_col6\" class=\"data row3 col6\" >48.500000</td>\n",
       "      <td id=\"T_35003_row3_col7\" class=\"data row3 col7\" >319.500000</td>\n",
       "    </tr>\n",
       "  </tbody>\n",
       "</table>\n"
      ],
      "text/plain": [
       "<pandas.io.formats.style.Styler at 0x130d1ceb0>"
      ]
     },
     "metadata": {},
     "output_type": "display_data"
    },
    {
     "data": {
      "image/png": "[encoded data removed]",
      "text/plain": [
       "<Figure size 640x480 with 1 Axes>"
      ]
     },
     "metadata": {},
     "output_type": "display_data"
    },
    {
     "data": {
      "image/png": "[encoded data removed]",
      "text/plain": [
       "<Figure size 640x480 with 1 Axes>"
      ]
     },
     "metadata": {},
     "output_type": "display_data"
    }
   ],
   "source": [
    "segment_visualization('cluster_id_kmeans')"
   ]
  },
  {
   "cell_type": "markdown",
   "metadata": {},
   "source": [
    "Description of User Segment:\n",
    "\n",
    "1. **Highly-engaged subscribers (cluser 2)**\n",
    "The segment accounts for 16% of all users. More than 80% are 35+ years old (50% are more than 55% year old) with good income. They know the primary language before learning on Duolingo. With high commitment, they become the most engaged group. \n",
    "\n",
    "2. **Beginner Subscription Learners (cluser 3)**\n",
    "The group makes up 18% of all users. 80% of them are 35+ years old. Although they learn the language for the first time, their engagement and consistency is impressive.\n",
    "\n",
    "3. **Freemium Language Reviewers (cluser 1)**\n",
    "This group accounts for 30% of all users. They are diverse in terms of age, income and employment status. They use Duolingo mainly to review languages they already know. Their engagement is medium - around 50% of subscribers’.\n",
    "\n",
    "4. **Curious Free Beginners (cluser 0)**\n",
    "This is the largest group (36% of all users). They are just language beginners and want to explore the language. However, they seem stuck with lowest engagement.\n"
   ]
  },
  {
   "cell_type": "markdown",
   "metadata": {},
   "source": [
    "### Hierarchical Clustering (for reference) ###"
   ]
  },
  {
   "cell_type": "code",
   "execution_count": 135,
   "metadata": {},
   "outputs": [],
   "source": [
    "# Fit Hierarchical Clustering to the data with linkage = 'ward'\n",
    "hierarchical_clustering = AgglomerativeClustering(n_clusters=4, linkage='ward')\n",
    "cluster_labels = hierarchical_clustering.fit_predict(data_model)"
   ]
  },
  {
   "cell_type": "code",
   "execution_count": 136,
   "metadata": {},
   "outputs": [],
   "source": [
    "#Add cluster labels to the dataset\n",
    "merged_data['cluster_id_hc'] = cluster_labels"
   ]
  },
  {
   "cell_type": "code",
   "execution_count": 137,
   "metadata": {},
   "outputs": [
    {
     "data": {
      "image/png": "[encoded data removed]",
      "text/plain": [
       "<Figure size 800x600 with 1 Axes>"
      ]
     },
     "metadata": {},
     "output_type": "display_data"
    },
    {
     "data": {
      "image/png": "[encoded data removed]",
      "text/plain": [
       "<Figure size 640x480 with 1 Axes>"
      ]
     },
     "metadata": {},
     "output_type": "display_data"
    },
    {
     "data": {
      "image/png": "[encoded data removed]",
      "text/plain": [
       "<Figure size 640x480 with 1 Axes>"
      ]
     },
     "metadata": {},
     "output_type": "display_data"
    },
    {
     "data": {
      "text/html": [
       "<style type=\"text/css\">\n",
       "#T_f5194_row0_col0, #T_f5194_row1_col0, #T_f5194_row1_col1, #T_f5194_row1_col7, #T_f5194_row2_col0, #T_f5194_row3_col2, #T_f5194_row3_col3, #T_f5194_row3_col4, #T_f5194_row3_col5, #T_f5194_row3_col6 {\n",
       "  background-color: #a50026;\n",
       "  color: #f1f1f1;\n",
       "}\n",
       "#T_f5194_row0_col1, #T_f5194_row0_col2, #T_f5194_row0_col3, #T_f5194_row0_col4, #T_f5194_row0_col5, #T_f5194_row0_col6, #T_f5194_row2_col7, #T_f5194_row3_col0 {\n",
       "  background-color: #006837;\n",
       "  color: #f1f1f1;\n",
       "}\n",
       "#T_f5194_row0_col7 {\n",
       "  background-color: #8ecf67;\n",
       "  color: #000000;\n",
       "}\n",
       "#T_f5194_row1_col2 {\n",
       "  background-color: #ce2827;\n",
       "  color: #f1f1f1;\n",
       "}\n",
       "#T_f5194_row1_col3 {\n",
       "  background-color: #eb5a3a;\n",
       "  color: #f1f1f1;\n",
       "}\n",
       "#T_f5194_row1_col4 {\n",
       "  background-color: #e44c34;\n",
       "  color: #f1f1f1;\n",
       "}\n",
       "#T_f5194_row1_col5 {\n",
       "  background-color: #e24731;\n",
       "  color: #f1f1f1;\n",
       "}\n",
       "#T_f5194_row1_col6 {\n",
       "  background-color: #b10b26;\n",
       "  color: #f1f1f1;\n",
       "}\n",
       "#T_f5194_row2_col1 {\n",
       "  background-color: #279f53;\n",
       "  color: #f1f1f1;\n",
       "}\n",
       "#T_f5194_row2_col2 {\n",
       "  background-color: #bbe278;\n",
       "  color: #000000;\n",
       "}\n",
       "#T_f5194_row2_col3, #T_f5194_row2_col4, #T_f5194_row2_col5 {\n",
       "  background-color: #fdc574;\n",
       "  color: #000000;\n",
       "}\n",
       "#T_f5194_row2_col6, #T_f5194_row3_col1, #T_f5194_row3_col7 {\n",
       "  background-color: #dc3b2c;\n",
       "  color: #f1f1f1;\n",
       "}\n",
       "</style>\n",
       "<table id=\"T_f5194\">\n",
       "  <thead>\n",
       "    <tr>\n",
       "      <th class=\"blank level0\" >&nbsp;</th>\n",
       "      <th id=\"T_f5194_level0_col0\" class=\"col_heading level0 col0\" >daily_goal</th>\n",
       "      <th id=\"T_f5194_level0_col1\" class=\"col_heading level0 col1\" >highest_course_progress</th>\n",
       "      <th id=\"T_f5194_level0_col2\" class=\"col_heading level0 col2\" >highest_crown_count</th>\n",
       "      <th id=\"T_f5194_level0_col3\" class=\"col_heading level0 col3\" >n_active_days</th>\n",
       "      <th id=\"T_f5194_level0_col4\" class=\"col_heading level0 col4\" >n_lessons_started</th>\n",
       "      <th id=\"T_f5194_level0_col5\" class=\"col_heading level0 col5\" >n_lessons_completed</th>\n",
       "      <th id=\"T_f5194_level0_col6\" class=\"col_heading level0 col6\" >longest_streak</th>\n",
       "      <th id=\"T_f5194_level0_col7\" class=\"col_heading level0 col7\" >n_days_on_platform</th>\n",
       "    </tr>\n",
       "    <tr>\n",
       "      <th class=\"index_name level0\" >cluster_id_hc</th>\n",
       "      <th class=\"blank col0\" >&nbsp;</th>\n",
       "      <th class=\"blank col1\" >&nbsp;</th>\n",
       "      <th class=\"blank col2\" >&nbsp;</th>\n",
       "      <th class=\"blank col3\" >&nbsp;</th>\n",
       "      <th class=\"blank col4\" >&nbsp;</th>\n",
       "      <th class=\"blank col5\" >&nbsp;</th>\n",
       "      <th class=\"blank col6\" >&nbsp;</th>\n",
       "      <th class=\"blank col7\" >&nbsp;</th>\n",
       "    </tr>\n",
       "  </thead>\n",
       "  <tbody>\n",
       "    <tr>\n",
       "      <th id=\"T_f5194_level0_row0\" class=\"row_heading level0 row0\" >0</th>\n",
       "      <td id=\"T_f5194_row0_col0\" class=\"data row0 col0\" >20.000000</td>\n",
       "      <td id=\"T_f5194_row0_col1\" class=\"data row0 col1\" >33.000000</td>\n",
       "      <td id=\"T_f5194_row0_col2\" class=\"data row0 col2\" >141.000000</td>\n",
       "      <td id=\"T_f5194_row0_col3\" class=\"data row0 col3\" >84.000000</td>\n",
       "      <td id=\"T_f5194_row0_col4\" class=\"data row0 col4\" >301.000000</td>\n",
       "      <td id=\"T_f5194_row0_col5\" class=\"data row0 col5\" >287.000000</td>\n",
       "      <td id=\"T_f5194_row0_col6\" class=\"data row0 col6\" >81.000000</td>\n",
       "      <td id=\"T_f5194_row0_col7\" class=\"data row0 col7\" >511.000000</td>\n",
       "    </tr>\n",
       "    <tr>\n",
       "      <th id=\"T_f5194_level0_row1\" class=\"row_heading level0 row1\" >1</th>\n",
       "      <td id=\"T_f5194_row1_col0\" class=\"data row1 col0\" >20.000000</td>\n",
       "      <td id=\"T_f5194_row1_col1\" class=\"data row1 col1\" >16.000000</td>\n",
       "      <td id=\"T_f5194_row1_col2\" class=\"data row1 col2\" >53.000000</td>\n",
       "      <td id=\"T_f5194_row1_col3\" class=\"data row1 col3\" >30.000000</td>\n",
       "      <td id=\"T_f5194_row1_col4\" class=\"data row1 col4\" >112.000000</td>\n",
       "      <td id=\"T_f5194_row1_col5\" class=\"data row1 col5\" >103.000000</td>\n",
       "      <td id=\"T_f5194_row1_col6\" class=\"data row1 col6\" >8.000000</td>\n",
       "      <td id=\"T_f5194_row1_col7\" class=\"data row1 col7\" >306.000000</td>\n",
       "    </tr>\n",
       "    <tr>\n",
       "      <th id=\"T_f5194_level0_row2\" class=\"row_heading level0 row2\" >2</th>\n",
       "      <td id=\"T_f5194_row2_col0\" class=\"data row2 col0\" >20.000000</td>\n",
       "      <td id=\"T_f5194_row2_col1\" class=\"data row2 col1\" >31.000000</td>\n",
       "      <td id=\"T_f5194_row2_col2\" class=\"data row2 col2\" >108.000000</td>\n",
       "      <td id=\"T_f5194_row2_col3\" class=\"data row2 col3\" >41.500000</td>\n",
       "      <td id=\"T_f5194_row2_col4\" class=\"data row2 col4\" >156.000000</td>\n",
       "      <td id=\"T_f5194_row2_col5\" class=\"data row2 col5\" >147.000000</td>\n",
       "      <td id=\"T_f5194_row2_col6\" class=\"data row2 col6\" >15.000000</td>\n",
       "      <td id=\"T_f5194_row2_col7\" class=\"data row2 col7\" >584.500000</td>\n",
       "    </tr>\n",
       "    <tr>\n",
       "      <th id=\"T_f5194_level0_row3\" class=\"row_heading level0 row3\" >3</th>\n",
       "      <td id=\"T_f5194_row3_col0\" class=\"data row3 col0\" >30.000000</td>\n",
       "      <td id=\"T_f5194_row3_col1\" class=\"data row3 col1\" >18.000000</td>\n",
       "      <td id=\"T_f5194_row3_col2\" class=\"data row3 col2\" >45.000000</td>\n",
       "      <td id=\"T_f5194_row3_col3\" class=\"data row3 col3\" >19.000000</td>\n",
       "      <td id=\"T_f5194_row3_col4\" class=\"data row3 col4\" >80.000000</td>\n",
       "      <td id=\"T_f5194_row3_col5\" class=\"data row3 col5\" >73.000000</td>\n",
       "      <td id=\"T_f5194_row3_col6\" class=\"data row3 col6\" >6.000000</td>\n",
       "      <td id=\"T_f5194_row3_col7\" class=\"data row3 col7\" >339.000000</td>\n",
       "    </tr>\n",
       "  </tbody>\n",
       "</table>\n"
      ],
      "text/plain": [
       "<pandas.io.formats.style.Styler at 0x1277a0c40>"
      ]
     },
     "metadata": {},
     "output_type": "display_data"
    },
    {
     "data": {
      "image/png": "[encoded data removed]",
      "text/plain": [
       "<Figure size 640x480 with 1 Axes>"
      ]
     },
     "metadata": {},
     "output_type": "display_data"
    },
    {
     "data": {
      "image/png": "[encoded data removed]",
      "text/plain": [
       "<Figure size 640x480 with 1 Axes>"
      ]
     },
     "metadata": {},
     "output_type": "display_data"
    }
   ],
   "source": [
    "segment_visualization('cluster_id_hc')"
   ]
  },
  {
   "cell_type": "markdown",
   "metadata": {},
   "source": [
    "## Section 5: Conclusion and Business Applications ##"
   ]
  },
  {
   "cell_type": "markdown",
   "metadata": {},
   "source": [
    "1. **Subscribers are our top prioritized segment** because they very likely generate the most revenue. The goal is to provide them with the best learning experience and make them re-new subscription. With high contribution of adult/senior learners (35+ years old), together with high commitment and engagement, we should:\n",
    "- Design learning paths with a focus on older adult learning styles and preferences\n",
    "- Offer more advanced courses challenges for the advanced learners. \n",
    "- Promote social features (such as Add friends) within the app to connect them with other engaged learners.\n",
    "- For marketing, showcase stories of successful late-in-life language learners and partner with organizations/companies catering to mature/senior audiences.\n",
    "\n",
    "2. **For Freemium Language Reviewers, the goal is to convert them to subscribers,** because they are the potential group to become the Highly-engaged subscribers: have intermediate proficiency for primary language before using the app and medium engagement.\n",
    "- Highlight the added subscription values. Recognize their hard work and offer 4-week free trial subscription instead of 2 week ones\n",
    "- Introduce more advanced courses based on their interest to increase their engagement.\n",
    "- For marketing, emphasize the importance of reviewing a language, leveraging that precious foundation to continue improving.\n",
    "- As mentioned, they are a diverse group, therefore, we should further segment/analyze them to understand their challenges/pain points for more relevant strategy.\n",
    "\n",
    "3. **For Curious Beginners, they are the biggest but riskiest group!** Most of them are beginners but they have very low engagement, potentially suggesting that they do not find it interesting to learn on Duolingo. \n",
    "- Quickly captivating the interest of this group at the beginning is important! Revamp the first courses to make sure that they can realize the quick win.\n",
    "- Offer personalized learning paths based on their interests and goals to increase their engagement.\n",
    "- Further analysis on their commitment/motivation is recommended to increase their motivation. The current data is not enough to tell why they have low commitment.\n",
    "- If watching ads is a reason leading to their low engagement, offering them 3-week free trial subscription and recognizing their improved performance after the trial.\n",
    "\n",
    "4. **Next steps:**\n",
    "- Further analysis on the reasons why users subscribe and users’ pain points are highly recommended to have a better understanding.\n",
    "- Conduct the user segmentation by country, understanding the reason why, for some countries such as Japan and France, the subscription ratio is much higher than others’ and allowing to localize the product in each country.\n"
   ]
  }
 ],
 "metadata": {
  "kernelspec": {
   "display_name": "Python 3",
   "language": "python",
   "name": "python3"
  },
  "language_info": {
   "codemirror_mode": {
    "name": "ipython",
    "version": 3
   },
   "file_extension": ".py",
   "mimetype": "text/x-python",
   "name": "python",
   "nbconvert_exporter": "python",
   "pygments_lexer": "ipython3",
   "version": "3.9.6"
  }
 },
 "nbformat": 4,
 "nbformat_minor": 2
}
